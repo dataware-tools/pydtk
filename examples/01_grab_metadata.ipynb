{
 "cells": [
  {
   "cell_type": "markdown",
   "metadata": {
    "pycharm": {
     "name": "#%% md\n"
    }
   },
   "source": [
    "# Example 1: Grab metadata from a database\n",
    "\n",
    "In this example, we will learn how to get metadata of each file in a database.\n",
    "The metadata contains objective information (e.g. recording date, duration, etc.)\n",
    "as well as subjective information such as tags."
   ]
  },
  {
   "cell_type": "markdown",
   "metadata": {},
   "source": [
    "## List database IDs\n",
    "\n",
    "Firstly, let's import and initialize DBHandler to list the ID of databases in `example_db`."
   ]
  },
  {
   "cell_type": "code",
   "execution_count": 7,
   "metadata": {
    "pycharm": {
     "name": "#%%\n"
    }
   },
   "outputs": [
    {
     "data": {
      "text/html": [
       "<div>\n",
       "<style scoped>\n",
       "    .dataframe tbody tr th:only-of-type {\n",
       "        vertical-align: middle;\n",
       "    }\n",
       "\n",
       "    .dataframe tbody tr th {\n",
       "        vertical-align: top;\n",
       "    }\n",
       "\n",
       "    .dataframe thead th {\n",
       "        text-align: right;\n",
       "    }\n",
       "</style>\n",
       "<table border=\"1\" class=\"dataframe\">\n",
       "  <thead>\n",
       "    <tr style=\"text-align: right;\">\n",
       "      <th></th>\n",
       "      <th>database_id</th>\n",
       "      <th>df_name</th>\n",
       "      <th>_creation_time</th>\n",
       "      <th>_uuid</th>\n",
       "      <th>_id</th>\n",
       "    </tr>\n",
       "  </thead>\n",
       "  <tbody>\n",
       "    <tr>\n",
       "      <th>0</th>\n",
       "      <td>default</td>\n",
       "      <td>db_0ffc6dbe_meta</td>\n",
       "      <td>1.621305e+09</td>\n",
       "      <td>c21f969b5f03d33d43e04f8f136e7682</td>\n",
       "      <td>3cce85d6b78011eb8fc30242ac110002</td>\n",
       "    </tr>\n",
       "  </tbody>\n",
       "</table>\n",
       "</div>"
      ],
      "text/plain": [
       "  database_id           df_name  _creation_time  \\\n",
       "0     default  db_0ffc6dbe_meta    1.621305e+09   \n",
       "\n",
       "                              _uuid                               _id  \n",
       "0  c21f969b5f03d33d43e04f8f136e7682  3cce85d6b78011eb8fc30242ac110002  "
      ]
     },
     "execution_count": 7,
     "metadata": {},
     "output_type": "execute_result"
    }
   ],
   "source": [
    "from pydtk.db import DBHandler\n",
    "\n",
    "db_id_handler = DBHandler(\n",
    "    db_class='database_id',\n",
    "    db_host='./example_db'\n",
    ")\n",
    "db_id_handler.read()\n",
    "db_id_handler.df"
   ]
  },
  {
   "cell_type": "markdown",
   "metadata": {},
   "source": [
    "You can see that `example_db` contains database with ID `default`.\n"
   ]
  },
  {
   "cell_type": "markdown",
   "metadata": {},
   "source": [
    "## Get metadata from a database\n",
    "\n",
    "Now, let's initialize another DBHandler to retrieve the metadata of the contents in database `default`."
   ]
  },
  {
   "cell_type": "code",
   "execution_count": 8,
   "metadata": {
    "pycharm": {
     "name": "#%%\n"
    }
   },
   "outputs": [],
   "source": [
    "from pydtk.db import V4DBHandler as DBHandler\n",
    "\n",
    "db_handler = DBHandler(\n",
    "    db_class='meta',\n",
    "    db_host='./example_db',\n",
    "    database_id='default',\n",
    "    base_dir_path='../test'\n",
    ")\n",
    "db_handler.read()"
   ]
  },
  {
   "cell_type": "markdown",
   "metadata": {},
   "source": [
    "Note that you need to call function `read()` to read data from DB.\n",
    "\n",
    "You can visualize the metadata by accessing property `.df` as follows:"
   ]
  },
  {
   "cell_type": "code",
   "execution_count": 9,
   "metadata": {
    "pycharm": {
     "name": "#%%\n"
    },
    "scrolled": true
   },
   "outputs": [
    {
     "data": {
      "text/html": [
       "<div>\n",
       "<style scoped>\n",
       "    .dataframe tbody tr th:only-of-type {\n",
       "        vertical-align: middle;\n",
       "    }\n",
       "\n",
       "    .dataframe tbody tr th {\n",
       "        vertical-align: top;\n",
       "    }\n",
       "\n",
       "    .dataframe thead th {\n",
       "        text-align: right;\n",
       "    }\n",
       "</style>\n",
       "<table border=\"1\" class=\"dataframe\">\n",
       "  <thead>\n",
       "    <tr style=\"text-align: right;\">\n",
       "      <th></th>\n",
       "      <th>Description</th>\n",
       "      <th>Record ID</th>\n",
       "      <th>File path</th>\n",
       "      <th>Contents</th>\n",
       "      <th>Tags</th>\n",
       "      <th>data_type</th>\n",
       "      <th>end_timestamp</th>\n",
       "      <th>content_type</th>\n",
       "      <th>start_timestamp</th>\n",
       "      <th>database_id</th>\n",
       "      <th>sub_record_id</th>\n",
       "      <th>_creation_time</th>\n",
       "      <th>_uuid</th>\n",
       "      <th>_id</th>\n",
       "    </tr>\n",
       "  </thead>\n",
       "  <tbody>\n",
       "    <tr>\n",
       "      <th>0</th>\n",
       "      <td>Description</td>\n",
       "      <td>sample</td>\n",
       "      <td>/opt/pydtk/test/records/sample/data/records.bag</td>\n",
       "      <td>{'/points_concat_downsampled': {'msg_type': 's...</td>\n",
       "      <td>NaN</td>\n",
       "      <td>raw_data</td>\n",
       "      <td>1.550126e+09</td>\n",
       "      <td>application/rosbag</td>\n",
       "      <td>1.550126e+09</td>\n",
       "      <td>NaN</td>\n",
       "      <td>NaN</td>\n",
       "      <td>1.621305e+09</td>\n",
       "      <td>adca5faea1d2012b809688628c8adcfc</td>\n",
       "      <td>3ca3cc9cb78011eb8fc30242ac110002</td>\n",
       "    </tr>\n",
       "    <tr>\n",
       "      <th>1</th>\n",
       "      <td>json file</td>\n",
       "      <td>test</td>\n",
       "      <td>/opt/pydtk/test/records/json_model_test/json_t...</td>\n",
       "      <td>{'test': {'tags': ['test1', 'test2']}}</td>\n",
       "      <td>NaN</td>\n",
       "      <td>test</td>\n",
       "      <td>NaN</td>\n",
       "      <td>application/json</td>\n",
       "      <td>NaN</td>\n",
       "      <td>json datbase</td>\n",
       "      <td>NaN</td>\n",
       "      <td>1.621305e+09</td>\n",
       "      <td>1a2e2cb364f2d4f43d133719c11d1867</td>\n",
       "      <td>3ca455d6b78011eb8fc30242ac110002</td>\n",
       "    </tr>\n",
       "    <tr>\n",
       "      <th>2</th>\n",
       "      <td>Forecast</td>\n",
       "      <td>test</td>\n",
       "      <td>/opt/pydtk/test/records/forecast_model_test/fo...</td>\n",
       "      <td>{'forecast': {'tags': ['test1', 'test2']}}</td>\n",
       "      <td>NaN</td>\n",
       "      <td>forecast</td>\n",
       "      <td>NaN</td>\n",
       "      <td>text/csv</td>\n",
       "      <td>NaN</td>\n",
       "      <td>NaN</td>\n",
       "      <td>NaN</td>\n",
       "      <td>1.621305e+09</td>\n",
       "      <td>be7a0ce377de8a4f164dbd019cacb7a2</td>\n",
       "      <td>3ca4ba76b78011eb8fc30242ac110002</td>\n",
       "    </tr>\n",
       "    <tr>\n",
       "      <th>3</th>\n",
       "      <td>Description.</td>\n",
       "      <td>016_00000000030000000015_1095_01</td>\n",
       "      <td>/opt/pydtk/test/records/annotation_model_test/...</td>\n",
       "      <td>{'risk_annotation': {'tags': ['risk_score', 's...</td>\n",
       "      <td>NaN</td>\n",
       "      <td>annotation</td>\n",
       "      <td>1.484629e+09</td>\n",
       "      <td>text/csv</td>\n",
       "      <td>1.484629e+09</td>\n",
       "      <td>NaN</td>\n",
       "      <td>NaN</td>\n",
       "      <td>1.621305e+09</td>\n",
       "      <td>9d78d143650bec29f293f35142f5528c</td>\n",
       "      <td>3ca5274ab78011eb8fc30242ac110002</td>\n",
       "    </tr>\n",
       "  </tbody>\n",
       "</table>\n",
       "</div>"
      ],
      "text/plain": [
       "    Description                         Record ID  \\\n",
       "0   Description                            sample   \n",
       "1     json file                              test   \n",
       "2      Forecast                              test   \n",
       "3  Description.  016_00000000030000000015_1095_01   \n",
       "\n",
       "                                           File path  \\\n",
       "0    /opt/pydtk/test/records/sample/data/records.bag   \n",
       "1  /opt/pydtk/test/records/json_model_test/json_t...   \n",
       "2  /opt/pydtk/test/records/forecast_model_test/fo...   \n",
       "3  /opt/pydtk/test/records/annotation_model_test/...   \n",
       "\n",
       "                                            Contents Tags   data_type  \\\n",
       "0  {'/points_concat_downsampled': {'msg_type': 's...  NaN    raw_data   \n",
       "1             {'test': {'tags': ['test1', 'test2']}}  NaN        test   \n",
       "2         {'forecast': {'tags': ['test1', 'test2']}}  NaN    forecast   \n",
       "3  {'risk_annotation': {'tags': ['risk_score', 's...  NaN  annotation   \n",
       "\n",
       "   end_timestamp        content_type  start_timestamp   database_id  \\\n",
       "0   1.550126e+09  application/rosbag     1.550126e+09           NaN   \n",
       "1            NaN    application/json              NaN  json datbase   \n",
       "2            NaN            text/csv              NaN           NaN   \n",
       "3   1.484629e+09            text/csv     1.484629e+09           NaN   \n",
       "\n",
       "  sub_record_id  _creation_time                             _uuid  \\\n",
       "0           NaN    1.621305e+09  adca5faea1d2012b809688628c8adcfc   \n",
       "1           NaN    1.621305e+09  1a2e2cb364f2d4f43d133719c11d1867   \n",
       "2           NaN    1.621305e+09  be7a0ce377de8a4f164dbd019cacb7a2   \n",
       "3           NaN    1.621305e+09  9d78d143650bec29f293f35142f5528c   \n",
       "\n",
       "                                _id  \n",
       "0  3ca3cc9cb78011eb8fc30242ac110002  \n",
       "1  3ca455d6b78011eb8fc30242ac110002  \n",
       "2  3ca4ba76b78011eb8fc30242ac110002  \n",
       "3  3ca5274ab78011eb8fc30242ac110002  "
      ]
     },
     "execution_count": 9,
     "metadata": {},
     "output_type": "execute_result"
    }
   ],
   "source": [
    "db_handler.df"
   ]
  },
  {
   "cell_type": "markdown",
   "metadata": {},
   "source": [
    "Property `.df` is read-only.  \n",
    "If you want to access to the actual metadata, please use `.data` instead, which returns a list of dicts containing metadata.\n",
    "\n",
    "Keep in mind that metadata is stored in file unit.  \n",
    "So, each line above corresponds to a file.  \n"
   ]
  },
  {
   "cell_type": "markdown",
   "metadata": {},
   "source": [
    "## Access to metadata\n",
    "When you use the metadata grabbed from DB, you will want to access it as dict.  \n",
    "In that case, you can access `.data`, which returns a list of dict containing metadata.  "
   ]
  },
  {
   "cell_type": "code",
   "execution_count": 24,
   "metadata": {},
   "outputs": [
    {
     "data": {
      "text/plain": [
       "[{'description': 'Description',\n",
       "  'record_id': 'sample',\n",
       "  'data_type': 'raw_data',\n",
       "  'path': '/opt/pydtk/test/records/sample/data/records.bag',\n",
       "  'start_timestamp': 1550125637.22,\n",
       "  'end_timestamp': 1550125637.53,\n",
       "  'content_type': 'application/rosbag',\n",
       "  'contents': {'/points_concat_downsampled': {'msg_type': 'sensor_msgs/PointCloud2',\n",
       "    'msg_md5sum': '1158d486dd51d683ce2f1be655c3c181',\n",
       "    'count': 4,\n",
       "    'frequency': 10.0,\n",
       "    'tags': ['lidar', 'downsampled']}},\n",
       "  '_uuid': 'adca5faea1d2012b809688628c8adcfc',\n",
       "  '_creation_time': 1621304696.823646,\n",
       "  '_id': '3ca3cc9cb78011eb8fc30242ac110002'},\n",
       " {'description': 'json file',\n",
       "  'database_id': 'json datbase',\n",
       "  'record_id': 'test',\n",
       "  'data_type': 'test',\n",
       "  'path': '/opt/pydtk/test/records/json_model_test/json_test.json',\n",
       "  'content_type': 'application/json',\n",
       "  'contents': {'test': {'tags': ['test1', 'test2']}},\n",
       "  '_uuid': '1a2e2cb364f2d4f43d133719c11d1867',\n",
       "  '_creation_time': 1621304696.824871,\n",
       "  '_id': '3ca455d6b78011eb8fc30242ac110002'},\n",
       " {'description': 'Forecast',\n",
       "  'record_id': 'test',\n",
       "  'data_type': 'forecast',\n",
       "  'path': '/opt/pydtk/test/records/forecast_model_test/forecast_test.csv',\n",
       "  'content_type': 'text/csv',\n",
       "  'contents': {'forecast': {'tags': ['test1', 'test2']}},\n",
       "  '_uuid': 'be7a0ce377de8a4f164dbd019cacb7a2',\n",
       "  '_creation_time': 1621304696.8263,\n",
       "  '_id': '3ca4ba76b78011eb8fc30242ac110002'},\n",
       " {'description': 'Description.',\n",
       "  'record_id': '016_00000000030000000015_1095_01',\n",
       "  'data_type': 'annotation',\n",
       "  'path': '/opt/pydtk/test/records/annotation_model_test/annotation_test.csv',\n",
       "  'start_timestamp': 1484628818.02,\n",
       "  'end_timestamp': 1484628823.98,\n",
       "  'content_type': 'text/csv',\n",
       "  'contents': {'risk_annotation': {'tags': ['risk_score',\n",
       "     'scene_description',\n",
       "     'risk_factor']}},\n",
       "  '_uuid': '9d78d143650bec29f293f35142f5528c',\n",
       "  '_creation_time': 1621304696.827451,\n",
       "  '_id': '3ca5274ab78011eb8fc30242ac110002'}]"
      ]
     },
     "execution_count": 24,
     "metadata": {},
     "output_type": "execute_result"
    }
   ],
   "source": [
    "db_handler.read()\n",
    "db_handler.data"
   ]
  },
  {
   "cell_type": "markdown",
   "metadata": {},
   "source": [
    "You can also retrieve metadata one-by-one by treating DBHandler as a iterator."
   ]
  },
  {
   "cell_type": "code",
   "execution_count": 26,
   "metadata": {},
   "outputs": [
    {
     "name": "stdout",
     "output_type": "stream",
     "text": [
      "{'description': 'Description', 'record_id': 'sample', 'data_type': 'raw_data', 'path': '/opt/pydtk/test/records/sample/data/records.bag', 'start_timestamp': 1550125637.22, 'end_timestamp': 1550125637.53, 'content_type': 'application/rosbag', 'contents': {'/points_concat_downsampled': {'msg_type': 'sensor_msgs/PointCloud2', 'msg_md5sum': '1158d486dd51d683ce2f1be655c3c181', 'count': 4, 'frequency': 10.0, 'tags': ['lidar', 'downsampled']}}, '_id': '3ca3cc9cb78011eb8fc30242ac110002'}\n",
      "{'description': 'json file', 'database_id': 'json datbase', 'record_id': 'test', 'data_type': 'test', 'path': '/opt/pydtk/test/records/json_model_test/json_test.json', 'content_type': 'application/json', 'contents': {'test': {'tags': ['test1', 'test2']}}, '_id': '3ca455d6b78011eb8fc30242ac110002'}\n",
      "{'description': 'Forecast', 'record_id': 'test', 'data_type': 'forecast', 'path': '/opt/pydtk/test/records/forecast_model_test/forecast_test.csv', 'content_type': 'text/csv', 'contents': {'forecast': {'tags': ['test1', 'test2']}}, '_id': '3ca4ba76b78011eb8fc30242ac110002'}\n",
      "{'description': 'Description.', 'record_id': '016_00000000030000000015_1095_01', 'data_type': 'annotation', 'path': '/opt/pydtk/test/records/annotation_model_test/annotation_test.csv', 'start_timestamp': 1484628818.02, 'end_timestamp': 1484628823.98, 'content_type': 'text/csv', 'contents': {'risk_annotation': {'tags': ['risk_score', 'scene_description', 'risk_factor']}}, '_id': '3ca5274ab78011eb8fc30242ac110002'}\n"
     ]
    }
   ],
   "source": [
    "for metadata in db_handler:\n",
    "    print(metadata)"
   ]
  },
  {
   "cell_type": "markdown",
   "metadata": {
    "pycharm": {
     "name": "#%% md\n"
    }
   },
   "source": [
    "## Search metadata\n",
    "\n",
    "When you want to handle a very large dataset, the metadata contains huge amount of information and as a result,\n",
    "it takes a long time to load all of it.  \n",
    "However, if you want to grab only a limited scope (e.g. metadata of files tagged 'camera' and 'front'),\n",
    "it is costful to load all the dataset and search items on the loaded dataframe.  \n",
    "Therefore, the toolkit provides a method to execute a query before loading the database\n",
    "and limit the items to load.  \n",
    "\n",
    "Current DBHandler (V4) supports the DB-native queries and [PQL](https://github.com/alonho/pql)."
   ]
  },
  {
   "cell_type": "code",
   "execution_count": 20,
   "metadata": {
    "pycharm": {
     "name": "#%%\n"
    }
   },
   "outputs": [
    {
     "name": "stdout",
     "output_type": "stream",
     "text": [
      "# of metadata: 1\n",
      "# of metadata: 1\n",
      "# of metadata: 2\n",
      "# of metadata: 1\n",
      "# of metadata: 1\n",
      "# of metadata: 1\n",
      "# of metadata: 2\n",
      "# of metadata: 1\n"
     ]
    }
   ],
   "source": [
    "# Initialize DB-handler\n",
    "db_handler = DBHandler(\n",
    "    db_class='meta',\n",
    "    db_host='./example_db',\n",
    "    database_id='default',\n",
    "    base_dir_path='../test',\n",
    "    read_on_init=False,\n",
    "    orient='contents'\n",
    ")\n",
    "\n",
    "# Filter records by the timestamps\n",
    "db_handler.read(pql='start_timestamp > 1500000000')\n",
    "print('# of metadata: {}'.format(len(db_handler.df)))\n",
    "db_handler.read(pql='start_timestamp > 1500000000 and start_timestamp < 1700000000')\n",
    "print('# of metadata: {}'.format(len(db_handler.df)))\n",
    "\n",
    "# Filter records by `record_id` with regular expressions\n",
    "db_handler.read(pql='record_id == regex(\"test.*\")')\n",
    "print('# of metadata: {}'.format(len(db_handler.df)))\n",
    "\n",
    "# Read metadata containing a specific key\n",
    "db_handler.read(pql='\"contents./points_concat_downsampled\" == exists(True)')\n",
    "print('# of metadata: {}'.format(len(db_handler.df)))\n",
    "\n",
    "# You can also use DB-native queries (Tinymongo is used in this case)\n",
    "db_handler.read(query={'start_timestamp': {'$gt': 1500000000}})\n",
    "print('# of metadata: {}'.format(len(db_handler.df)))\n",
    "db_handler.read(query={'$and': [{'start_timestamp': {'$gt': 1500000000}}, {'start_timestamp': {'$lt': 1700000000}}]})\n",
    "print('# of metadata: {}'.format(len(db_handler.df)))\n",
    "db_handler.read(query={'record_id': {'$regex': 'test.*'}})\n",
    "print('# of metadata: {}'.format(len(db_handler.df)))\n",
    "db_handler.read(query={'contents./points_concat_downsampled': {'$exists': True}})\n",
    "print('# of metadata: {}'.format(len(db_handler.df)))"
   ]
  }
 ],
 "metadata": {
  "kernelspec": {
   "display_name": "Python 3",
   "language": "python",
   "name": "python3"
  },
  "language_info": {
   "codemirror_mode": {
    "name": "ipython",
    "version": 3
   },
   "file_extension": ".py",
   "mimetype": "text/x-python",
   "name": "python",
   "nbconvert_exporter": "python",
   "pygments_lexer": "ipython3",
   "version": "3.8.5"
  }
 },
 "nbformat": 4,
 "nbformat_minor": 1
}