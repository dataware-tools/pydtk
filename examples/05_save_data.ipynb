{
 "cells": [
  {
   "cell_type": "markdown",
   "metadata": {},
   "source": [
    "## Save metadata to database from json file"
   ]
  },
  {
   "cell_type": "code",
   "execution_count": 15,
   "metadata": {},
   "outputs": [
    {
     "name": "stderr",
     "output_type": "stream",
     "text": [
      "                                                              \r"
     ]
    }
   ],
   "source": [
    "from pydtk.db import V3DBHandler as DBHandler\n",
    "from pydtk.models import MetaDataModel\n",
    "meta_db_handler = DBHandler(db_class='meta',\n",
    "                            db_host='./example.db',\n",
    "                            base_dir_path='../test',\n",
    "                            read_on_init=False)\n",
    "paths = [\n",
    "    '../test/records/016_00000000030000000240/data/camera_01_timestamps.csv.json',\n",
    "    '../test/records/B05_17000000010000000829/data/records.bag.json',\n",
    "    '../test/records/sample/data/records.bag.json',\n",
    "]\n",
    "\n",
    "for path in paths:\n",
    "    metadata = MetaDataModel()\n",
    "    metadata.load(path)\n",
    "    meta_db_handler.add_data(metadata.data)\n",
    "\n",
    "\n",
    "meta_db_handler.save(remove_duplicates=True)"
   ]
  },
  {
   "cell_type": "markdown",
   "metadata": {},
   "source": [
    "## Save metadata to databse from dict"
   ]
  },
  {
   "cell_type": "code",
   "execution_count": 1,
   "metadata": {},
   "outputs": [
    {
     "name": "stderr",
     "output_type": "stream",
     "text": [
      "Failed to load Python extension for LZ4 support. LZ4 compression will not be available.\n",
      "                                                              \r"
     ]
    }
   ],
   "source": [
    "from pydtk.db import V3DBHandler as DBHandler\n",
    "from pydtk.models import MetaDataModel\n",
    "\n",
    "meta_db_handler = DBHandler(db_class='meta',\n",
    "                            db_host='./example.db',\n",
    "                            base_dir_path='../test',\n",
    "                            read_on_init=False)\n",
    "\n",
    "metadata = {\n",
    "    \"description\": \"Driving Database\",\n",
    "    \"database_id\": \"Driving Behavior Database\",\n",
    "    \"record_id\": \"016_00000000030000000240\",\n",
    "    \"type\": \"raw_data\",\n",
    "    \"path\": \"/opt/pydtk/test/records/016_00000000030000000240/data/camera_01_timestamps.csv\",\n",
    "    \"start_timestamp\": 1489728491.0,\n",
    "    \"end_timestamp\": 1489728570.957,\n",
    "    \"content-type\": \"text/csv\",\n",
    "    \"contents\": {\n",
    "        \"camera/front-center\": {\n",
    "            \"tags\": [\n",
    "                \"camera\",\n",
    "                \"front\",\n",
    "                \"center\",\n",
    "                \"timestamps\"\n",
    "            ]\n",
    "        }\n",
    "    }\n",
    "}\n",
    "\n",
    "\n",
    "meta_db_handler.add_data(metadata)\n",
    "meta_db_handler.save(remove_duplicates=True)"
   ]
  }
 ],
 "metadata": {
  "kernelspec": {
   "display_name": "Python 3",
   "language": "python",
   "name": "python3"
  },
  "language_info": {
   "codemirror_mode": {
    "name": "ipython",
    "version": 3
   },
   "file_extension": ".py",
   "mimetype": "text/x-python",
   "name": "python",
   "nbconvert_exporter": "python",
   "pygments_lexer": "ipython3",
   "version": "3.6.9"
  }
 },
 "nbformat": 4,
 "nbformat_minor": 4
}
