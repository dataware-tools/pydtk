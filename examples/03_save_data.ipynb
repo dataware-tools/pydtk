{
 "cells": [
  {
   "cell_type": "markdown",
   "metadata": {},
   "source": [
    "## Save metadata to database from json file"
   ]
  },
  {
   "cell_type": "code",
   "execution_count": 1,
   "metadata": {},
   "outputs": [
    {
     "name": "stderr",
     "output_type": "stream",
     "text": [
      "WARNING:root:Failed to load models in autoware\n",
      "WARNING:root:Failed to load models in movie.py\n",
      "WARNING:root:Failed to load models in rosbag.py\n",
      "WARNING:root:Failed to load configs from DB: list index out of range\n",
      "WARNING:root:Failed to load configs from DB: list index out of range\n"
     ]
    }
   ],
   "source": [
    "from pydtk.db import DBHandler\n",
    "from pydtk.models import MetaDataModel\n",
    "\n",
    "handler = DBHandler(\n",
    "    db_class='meta',\n",
    "    db_host='./test_db',\n",
    "    base_dir_path='../test'\n",
    ")\n",
    "paths = [\n",
    "    '../test/records/csv_model_test/data/test.csv.json',\n",
    "    '../test/records/rosbag_model_test/data/records.bag.json',\n",
    "    '../test/records/sample/data/records.bag.json',\n",
    "]\n",
    "\n",
    "for path in paths:\n",
    "    metadata = MetaDataModel()\n",
    "    metadata.load(path)\n",
    "    handler.add_data(metadata.data)\n",
    "\n",
    "handler.save()"
   ]
  },
  {
   "cell_type": "markdown",
   "metadata": {
    "pycharm": {
     "name": "#%% md\n"
    }
   },
   "source": [
    "## Check if the metadata is stored correctly"
   ]
  },
  {
   "cell_type": "code",
   "execution_count": 2,
   "metadata": {
    "pycharm": {
     "name": "#%%\n"
    }
   },
   "outputs": [
    {
     "data": {
      "text/html": [
       "<div>\n",
       "<style scoped>\n",
       "    .dataframe tbody tr th:only-of-type {\n",
       "        vertical-align: middle;\n",
       "    }\n",
       "\n",
       "    .dataframe tbody tr th {\n",
       "        vertical-align: top;\n",
       "    }\n",
       "\n",
       "    .dataframe thead th {\n",
       "        text-align: right;\n",
       "    }\n",
       "</style>\n",
       "<table border=\"1\" class=\"dataframe\">\n",
       "  <thead>\n",
       "    <tr style=\"text-align: right;\">\n",
       "      <th></th>\n",
       "      <th>Description</th>\n",
       "      <th>Record ID</th>\n",
       "      <th>File path</th>\n",
       "      <th>Contents</th>\n",
       "      <th>Tags</th>\n",
       "      <th>data_type</th>\n",
       "      <th>start_timestamp</th>\n",
       "      <th>content_type</th>\n",
       "      <th>end_timestamp</th>\n",
       "      <th>_creation_time</th>\n",
       "      <th>_uuid</th>\n",
       "      <th>_id</th>\n",
       "    </tr>\n",
       "  </thead>\n",
       "  <tbody>\n",
       "    <tr>\n",
       "      <th>0</th>\n",
       "      <td>Description</td>\n",
       "      <td>csv_model_test</td>\n",
       "      <td>/opt/pydtk/test/records/csv_model_test/data/te...</td>\n",
       "      <td>{'camera/front-center': {'tags': ['camera', 'f...</td>\n",
       "      <td>NaN</td>\n",
       "      <td>raw_data</td>\n",
       "      <td>1.489728e+09</td>\n",
       "      <td>text/csv</td>\n",
       "      <td>1.489729e+09</td>\n",
       "      <td>1.621312e+09</td>\n",
       "      <td>999e172bd18e46661ce10898122025cb</td>\n",
       "      <td>eba6f104b79111eb92da0242ac160002</td>\n",
       "    </tr>\n",
       "    <tr>\n",
       "      <th>1</th>\n",
       "      <td>Description</td>\n",
       "      <td>rosbag_model_test</td>\n",
       "      <td>/opt/pydtk/test/records/rosbag_model_test/data...</td>\n",
       "      <td>{'/vehicle/acceleration': {'msg_type': 'geomet...</td>\n",
       "      <td>NaN</td>\n",
       "      <td>raw_data</td>\n",
       "      <td>1.517463e+09</td>\n",
       "      <td>application/rosbag</td>\n",
       "      <td>1.517463e+09</td>\n",
       "      <td>1.621312e+09</td>\n",
       "      <td>9ad8e31877e6befe1ad9ec1968da4c9b</td>\n",
       "      <td>eba739deb79111eb92da0242ac160002</td>\n",
       "    </tr>\n",
       "    <tr>\n",
       "      <th>2</th>\n",
       "      <td>Description</td>\n",
       "      <td>sample</td>\n",
       "      <td>/opt/pydtk/test/records/sample/data/records.bag</td>\n",
       "      <td>{'/points_concat_downsampled': {'msg_type': 's...</td>\n",
       "      <td>NaN</td>\n",
       "      <td>raw_data</td>\n",
       "      <td>1.550126e+09</td>\n",
       "      <td>application/rosbag</td>\n",
       "      <td>1.550126e+09</td>\n",
       "      <td>1.621312e+09</td>\n",
       "      <td>adca5faea1d2012b809688628c8adcfc</td>\n",
       "      <td>eba7a392b79111eb92da0242ac160002</td>\n",
       "    </tr>\n",
       "  </tbody>\n",
       "</table>\n",
       "</div>"
      ],
      "text/plain": [
       "   Description          Record ID  \\\n",
       "0  Description     csv_model_test   \n",
       "1  Description  rosbag_model_test   \n",
       "2  Description             sample   \n",
       "\n",
       "                                           File path  \\\n",
       "0  /opt/pydtk/test/records/csv_model_test/data/te...   \n",
       "1  /opt/pydtk/test/records/rosbag_model_test/data...   \n",
       "2    /opt/pydtk/test/records/sample/data/records.bag   \n",
       "\n",
       "                                            Contents Tags data_type  \\\n",
       "0  {'camera/front-center': {'tags': ['camera', 'f...  NaN  raw_data   \n",
       "1  {'/vehicle/acceleration': {'msg_type': 'geomet...  NaN  raw_data   \n",
       "2  {'/points_concat_downsampled': {'msg_type': 's...  NaN  raw_data   \n",
       "\n",
       "   start_timestamp        content_type  end_timestamp  _creation_time  \\\n",
       "0     1.489728e+09            text/csv   1.489729e+09    1.621312e+09   \n",
       "1     1.517463e+09  application/rosbag   1.517463e+09    1.621312e+09   \n",
       "2     1.550126e+09  application/rosbag   1.550126e+09    1.621312e+09   \n",
       "\n",
       "                              _uuid                               _id  \n",
       "0  999e172bd18e46661ce10898122025cb  eba6f104b79111eb92da0242ac160002  \n",
       "1  9ad8e31877e6befe1ad9ec1968da4c9b  eba739deb79111eb92da0242ac160002  \n",
       "2  adca5faea1d2012b809688628c8adcfc  eba7a392b79111eb92da0242ac160002  "
      ]
     },
     "execution_count": 2,
     "metadata": {},
     "output_type": "execute_result"
    }
   ],
   "source": [
    "handler = DBHandler(\n",
    "    db_class='meta',\n",
    "    db_host='./test_db',\n",
    "    base_dir_path='../test'\n",
    ")\n",
    "handler.read()\n",
    "handler.df"
   ]
  },
  {
   "cell_type": "markdown",
   "metadata": {},
   "source": [
    "## Save metadata to databse from dict"
   ]
  },
  {
   "cell_type": "code",
   "execution_count": 3,
   "metadata": {},
   "outputs": [
    {
     "name": "stderr",
     "output_type": "stream",
     "text": [
      "WARNING:root:Failed to load configs from DB: list index out of range\n",
      "WARNING:root:Failed to load configs from DB: list index out of range\n"
     ]
    }
   ],
   "source": [
    "from pydtk.db import DBHandler\n",
    "\n",
    "handler = DBHandler(\n",
    "    db_class='meta',\n",
    "    db_host='./test_db_2',\n",
    "    base_dir_path='../test'\n",
    ")\n",
    "\n",
    "metadata = {\n",
    "    \"description\": \"Description\",\n",
    "    \"record_id\": \"test123\",\n",
    "    \"type\": \"raw_data\",\n",
    "    \"path\": \"/opt/pydtk/test/records/csv_model_test/data/test.csv\",\n",
    "    \"start_timestamp\": 1489728491.0,\n",
    "    \"end_timestamp\": 1489728570.957,\n",
    "    \"content-type\": \"text/csv\",\n",
    "    \"contents\": {\n",
    "        \"camera/front-center\": {\n",
    "            \"tags\": [\n",
    "                \"camera\",\n",
    "                \"front\",\n",
    "                \"center\",\n",
    "                \"timestamps\"\n",
    "            ]\n",
    "        }\n",
    "    }\n",
    "}\n",
    "\n",
    "handler.add_data(metadata)\n",
    "handler.save()"
   ]
  },
  {
   "cell_type": "markdown",
   "metadata": {},
   "source": [
    "## Check if the metadata is stored correctly"
   ]
  },
  {
   "cell_type": "code",
   "execution_count": 6,
   "metadata": {
    "pycharm": {
     "name": "#%%\n"
    }
   },
   "outputs": [
    {
     "data": {
      "text/html": [
       "<div>\n",
       "<style scoped>\n",
       "    .dataframe tbody tr th:only-of-type {\n",
       "        vertical-align: middle;\n",
       "    }\n",
       "\n",
       "    .dataframe tbody tr th {\n",
       "        vertical-align: top;\n",
       "    }\n",
       "\n",
       "    .dataframe thead th {\n",
       "        text-align: right;\n",
       "    }\n",
       "</style>\n",
       "<table border=\"1\" class=\"dataframe\">\n",
       "  <thead>\n",
       "    <tr style=\"text-align: right;\">\n",
       "      <th></th>\n",
       "      <th>Description</th>\n",
       "      <th>Record ID</th>\n",
       "      <th>File path</th>\n",
       "      <th>Contents</th>\n",
       "      <th>Tags</th>\n",
       "      <th>start_timestamp</th>\n",
       "      <th>content-type</th>\n",
       "      <th>type</th>\n",
       "      <th>end_timestamp</th>\n",
       "      <th>_creation_time</th>\n",
       "      <th>_uuid</th>\n",
       "      <th>_id</th>\n",
       "    </tr>\n",
       "  </thead>\n",
       "  <tbody>\n",
       "    <tr>\n",
       "      <th>0</th>\n",
       "      <td>Description</td>\n",
       "      <td>test123</td>\n",
       "      <td>/opt/pydtk/test/records/csv_model_test/data/te...</td>\n",
       "      <td>{'camera/front-center': {'tags': ['camera', 'f...</td>\n",
       "      <td>NaN</td>\n",
       "      <td>1.489728e+09</td>\n",
       "      <td>text/csv</td>\n",
       "      <td>raw_data</td>\n",
       "      <td>1.489729e+09</td>\n",
       "      <td>1.621312e+09</td>\n",
       "      <td>7238009180df6ecbddc6bcccd530553b</td>\n",
       "      <td>10222616b79211eb92da0242ac160002</td>\n",
       "    </tr>\n",
       "  </tbody>\n",
       "</table>\n",
       "</div>"
      ],
      "text/plain": [
       "   Description Record ID                                          File path  \\\n",
       "0  Description   test123  /opt/pydtk/test/records/csv_model_test/data/te...   \n",
       "\n",
       "                                            Contents Tags  start_timestamp  \\\n",
       "0  {'camera/front-center': {'tags': ['camera', 'f...  NaN     1.489728e+09   \n",
       "\n",
       "  content-type      type  end_timestamp  _creation_time  \\\n",
       "0     text/csv  raw_data   1.489729e+09    1.621312e+09   \n",
       "\n",
       "                              _uuid                               _id  \n",
       "0  7238009180df6ecbddc6bcccd530553b  10222616b79211eb92da0242ac160002  "
      ]
     },
     "execution_count": 6,
     "metadata": {},
     "output_type": "execute_result"
    }
   ],
   "source": [
    "handler = DBHandler(\n",
    "    db_class='meta',\n",
    "    db_host='./test_db_2',\n",
    "    base_dir_path='../test'\n",
    ")\n",
    "handler.read()\n",
    "\n",
    "handler.df"
   ]
  }
 ],
 "metadata": {
  "kernelspec": {
   "display_name": "Python 3",
   "language": "python",
   "name": "python3"
  },
  "language_info": {
   "codemirror_mode": {
    "name": "ipython",
    "version": 3
   },
   "file_extension": ".py",
   "mimetype": "text/x-python",
   "name": "python",
   "nbconvert_exporter": "python",
   "pygments_lexer": "ipython3",
   "version": "3.8.5"
  }
 },
 "nbformat": 4,
 "nbformat_minor": 4
}
