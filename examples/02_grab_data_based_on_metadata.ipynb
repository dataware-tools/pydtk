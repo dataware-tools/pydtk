{
 "cells": [
  {
   "cell_type": "markdown",
   "source": [
    "# Example 2: Grab data based on metadata\n",
    "\n",
    "In this example, we will learn how to grab the actual data based on metadata."
   ],
   "metadata": {
    "collapsed": false,
    "pycharm": {
     "name": "#%% md\n"
    }
   }
  },
  {
   "cell_type": "markdown",
   "source": [
    "## Filter metadata\n",
    "\n",
    "Just like how we did in the previous example, let's search metadata of Analog signals as an example."
   ],
   "metadata": {
    "collapsed": false
   }
  },
  {
   "cell_type": "code",
   "execution_count": 8,
   "outputs": [
    {
     "data": {
      "text/plain": "                  record_id  \\\n0  B05_17000000010000000829   \n1  B05_17000000010000000829   \n2  B05_17000000010000000829   \n3  B05_17000000010000000829   \n\n                                                path  \\\n0  /opt/nudrive-toolkit/test/records/B05_17000000...   \n1  /opt/nudrive-toolkit/test/records/B05_17000000...   \n2  /opt/nudrive-toolkit/test/records/B05_17000000...   \n3  /opt/nudrive-toolkit/test/records/B05_17000000...   \n\n                        content        msg_type  \\\n0  /vehicle/analog/brake_signal   std_msgs/Bool   \n1   /vehicle/analog/back_signal   std_msgs/Bool   \n2   /vehicle/analog/turn_signal  std_msgs/UInt8   \n3   /vehicle/analog/speed_pulse  std_msgs/UInt8   \n\n                                tag  \n0  [analog, signal, vehicle, brake]  \n1   [analog, signal, vehicle, back]  \n2   [analog, signal, vehicle, turn]  \n3   [analog, vehicle, pulse, speed]  ",
      "text/html": "<div>\n<style scoped>\n    .dataframe tbody tr th:only-of-type {\n        vertical-align: middle;\n    }\n\n    .dataframe tbody tr th {\n        vertical-align: top;\n    }\n\n    .dataframe thead th {\n        text-align: right;\n    }\n</style>\n<table border=\"1\" class=\"dataframe\">\n  <thead>\n    <tr style=\"text-align: right;\">\n      <th></th>\n      <th>record_id</th>\n      <th>path</th>\n      <th>content</th>\n      <th>msg_type</th>\n      <th>tag</th>\n    </tr>\n  </thead>\n  <tbody>\n    <tr>\n      <th>0</th>\n      <td>B05_17000000010000000829</td>\n      <td>/opt/nudrive-toolkit/test/records/B05_17000000...</td>\n      <td>/vehicle/analog/brake_signal</td>\n      <td>std_msgs/Bool</td>\n      <td>[analog, signal, vehicle, brake]</td>\n    </tr>\n    <tr>\n      <th>1</th>\n      <td>B05_17000000010000000829</td>\n      <td>/opt/nudrive-toolkit/test/records/B05_17000000...</td>\n      <td>/vehicle/analog/back_signal</td>\n      <td>std_msgs/Bool</td>\n      <td>[analog, signal, vehicle, back]</td>\n    </tr>\n    <tr>\n      <th>2</th>\n      <td>B05_17000000010000000829</td>\n      <td>/opt/nudrive-toolkit/test/records/B05_17000000...</td>\n      <td>/vehicle/analog/turn_signal</td>\n      <td>std_msgs/UInt8</td>\n      <td>[analog, signal, vehicle, turn]</td>\n    </tr>\n    <tr>\n      <th>3</th>\n      <td>B05_17000000010000000829</td>\n      <td>/opt/nudrive-toolkit/test/records/B05_17000000...</td>\n      <td>/vehicle/analog/speed_pulse</td>\n      <td>std_msgs/UInt8</td>\n      <td>[analog, vehicle, pulse, speed]</td>\n    </tr>\n  </tbody>\n</table>\n</div>"
     },
     "execution_count": 8,
     "metadata": {},
     "output_type": "execute_result"
    }
   ],
   "source": [
    "import os\n",
    "from dwtk.db import V3DBHandler as DBHandler\n",
    "\n",
    "path_to_test_dir = os.path.join(os.getcwd(), '../../test')\n",
    "\n",
    "db_handler = DBHandler(\n",
    "    db_class='meta',\n",
    "    db_host=os.path.join(path_to_test_dir, 'test.db'),\n",
    "    base_dir_path=path_to_test_dir,\n",
    "    read_on_init=False\n",
    ")\n",
    "db_handler.read(where='tags like \"%analog%\"')\n",
    "db_handler.content_df"
   ],
   "metadata": {
    "collapsed": false,
    "pycharm": {
     "name": "#%%\n"
    }
   }
  },
  {
   "cell_type": "markdown",
   "source": [
    "You can also use Pandas' `filter` function to filter metadata.  \n",
    "For example, if you want to search for speed signals... "
   ],
   "metadata": {
    "collapsed": false
   }
  },
  {
   "cell_type": "code",
   "execution_count": 9,
   "outputs": [
    {
     "data": {
      "text/plain": "                  record_id  \\\n3  B05_17000000010000000829   \n\n                                                path  \\\n3  /opt/nudrive-toolkit/test/records/B05_17000000...   \n\n                       content        msg_type  \\\n3  /vehicle/analog/speed_pulse  std_msgs/UInt8   \n\n                               tag  \n3  [analog, vehicle, pulse, speed]  ",
      "text/html": "<div>\n<style scoped>\n    .dataframe tbody tr th:only-of-type {\n        vertical-align: middle;\n    }\n\n    .dataframe tbody tr th {\n        vertical-align: top;\n    }\n\n    .dataframe thead th {\n        text-align: right;\n    }\n</style>\n<table border=\"1\" class=\"dataframe\">\n  <thead>\n    <tr style=\"text-align: right;\">\n      <th></th>\n      <th>record_id</th>\n      <th>path</th>\n      <th>content</th>\n      <th>msg_type</th>\n      <th>tag</th>\n    </tr>\n  </thead>\n  <tbody>\n    <tr>\n      <th>3</th>\n      <td>B05_17000000010000000829</td>\n      <td>/opt/nudrive-toolkit/test/records/B05_17000000...</td>\n      <td>/vehicle/analog/speed_pulse</td>\n      <td>std_msgs/UInt8</td>\n      <td>[analog, vehicle, pulse, speed]</td>\n    </tr>\n  </tbody>\n</table>\n</div>"
     },
     "execution_count": 9,
     "metadata": {},
     "output_type": "execute_result"
    }
   ],
   "source": [
    "db_handler.df.query('tags.str.contains(\"speed\")', inplace=True)\n",
    "db_handler.content_df"
   ],
   "metadata": {
    "collapsed": false,
    "pycharm": {
     "name": "#%%\n"
    }
   }
  },
  {
   "cell_type": "markdown",
   "source": [
    "## Iterate metadata\n",
    "\n",
    "You can get metadata one-by-one as `DBHandler` works as a iterator.  \n",
    "To get a sample, just use `next()` method.\n",
    "A metadata will be returned as a dict."
   ],
   "metadata": {
    "collapsed": false,
    "pycharm": {
     "name": "#%% md\n"
    }
   }
  },
  {
   "cell_type": "code",
   "execution_count": 10,
   "outputs": [
    {
     "data": {
      "text/plain": "{'description': 'Driving Database',\n 'database_id': 'Driving Behavior Database',\n 'record_id': 'B05_17000000010000000829',\n 'data_type': 'raw_data',\n 'path': '/opt/nudrive-toolkit/test/records/B05_17000000010000000829/data/records.bag',\n 'start_timestamp': 1517463303.0,\n 'end_timestamp': 1517463303.95,\n 'content_type': 'application/rosbag',\n 'contents': '/vehicle/analog/speed_pulse',\n 'msg_type': 'std_msgs/UInt8',\n 'msg_md5sum': '7c8164229e7d2c17eb95e9231617fdee',\n 'count': 20.0,\n 'frequency': 20.000019073504518,\n 'tags': ['vehicle', 'analog', 'speed', 'pulse']}"
     },
     "execution_count": 10,
     "metadata": {},
     "output_type": "execute_result"
    }
   ],
   "source": [
    "sample = next(db_handler)\n",
    "sample"
   ],
   "metadata": {
    "collapsed": false,
    "pycharm": {
     "name": "#%%\n"
    }
   }
  },
  {
   "cell_type": "markdown",
   "source": [
    "## Grab data\n",
    "\n",
    "Based on the metadata, we can grab the actual data as a numpy array from the corresponding file.  \n",
    "`BaseFileReader` automatically chooses an appropriate model to load the file based on the given metadata.  \n",
    "Thus, you can simple call `read` function to grab data as follows."
   ],
   "metadata": {
    "collapsed": false
   }
  },
  {
   "cell_type": "code",
   "execution_count": 14,
   "outputs": [
    {
     "name": "stdout",
     "output_type": "stream",
     "text": [
      "# of frames: 20\n"
     ]
    }
   ],
   "source": [
    "from dwtk.io import BaseFileReader, NoModelMatchedError\n",
    "\n",
    "reader = BaseFileReader()\n",
    "\n",
    "try:\n",
    "    timestamps, data, columns = reader.read(sample)\n",
    "    print('# of frames: {}'.format(len(timestamps)))\n",
    "except NoModelMatchedError as e:\n",
    "    print(str(e))"
   ],
   "metadata": {
    "collapsed": false,
    "pycharm": {
     "name": "#%%\n"
    }
   }
  },
  {
   "cell_type": "markdown",
   "source": [
    "Let's check the ndarray."
   ],
   "metadata": {
    "collapsed": false,
    "pycharm": {
     "name": "#%% md\n"
    }
   }
  },
  {
   "cell_type": "code",
   "execution_count": 30,
   "outputs": [],
   "source": [
    "timestamps?"
   ],
   "metadata": {
    "collapsed": false,
    "pycharm": {
     "name": "#%%\n"
    }
   }
  },
  {
   "cell_type": "code",
   "execution_count": 31,
   "outputs": [],
   "source": [
    "data?"
   ],
   "metadata": {
    "collapsed": false,
    "pycharm": {
     "name": "#%%\n"
    }
   }
  },
  {
   "cell_type": "code",
   "execution_count": 28,
   "outputs": [],
   "source": [
    "columns?"
   ],
   "metadata": {
    "collapsed": false,
    "pycharm": {
     "name": "#%%\n"
    }
   }
  },
  {
   "cell_type": "code",
   "execution_count": null,
   "outputs": [],
   "source": [
    "\n"
   ],
   "metadata": {
    "collapsed": false,
    "pycharm": {
     "name": "#%%\n"
    }
   }
  }
 ],
 "metadata": {
  "kernelspec": {
   "display_name": "Python 3",
   "language": "python",
   "name": "python3"
  },
  "language_info": {
   "codemirror_mode": {
    "name": "ipython",
    "version": 3
   },
   "file_extension": ".py",
   "mimetype": "text/x-python",
   "name": "python",
   "nbconvert_exporter": "python",
   "pygments_lexer": "ipython3",
   "version": "3.6.9"
  }
 },
 "nbformat": 4,
 "nbformat_minor": 1
}