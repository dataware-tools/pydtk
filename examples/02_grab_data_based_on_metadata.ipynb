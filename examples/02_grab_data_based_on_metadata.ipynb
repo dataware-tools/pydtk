{
 "cells": [
  {
   "cell_type": "markdown",
   "metadata": {
    "collapsed": false,
    "pycharm": {
     "name": "#%% md\n"
    }
   },
   "source": [
    "# Example 2: Grab data based on metadata\n",
    "\n",
    "In this example, we will learn how to grab the actual data based on metadata."
   ]
  },
  {
   "cell_type": "markdown",
   "metadata": {
    "collapsed": false
   },
   "source": [
    "## Filter metadata\n",
    "\n",
    "Just like how we did in the previous example, let's search metadata of Analog signals as an example."
   ]
  },
  {
   "cell_type": "code",
   "execution_count": 8,
   "metadata": {
    "collapsed": false,
    "pycharm": {
     "name": "#%%\n"
    }
   },
   "outputs": [
    {
     "data": {
      "text/html": [
       "<div>\n",
       "<style scoped>\n",
       "    .dataframe tbody tr th:only-of-type {\n",
       "        vertical-align: middle;\n",
       "    }\n",
       "\n",
       "    .dataframe tbody tr th {\n",
       "        vertical-align: top;\n",
       "    }\n",
       "\n",
       "    .dataframe thead th {\n",
       "        text-align: right;\n",
       "    }\n",
       "</style>\n",
       "<table border=\"1\" class=\"dataframe\">\n",
       "  <thead>\n",
       "    <tr style=\"text-align: right;\">\n",
       "      <th></th>\n",
       "      <th>record_id</th>\n",
       "      <th>path</th>\n",
       "      <th>content</th>\n",
       "      <th>msg_type</th>\n",
       "      <th>tag</th>\n",
       "    </tr>\n",
       "  </thead>\n",
       "  <tbody>\n",
       "    <tr>\n",
       "      <th>0</th>\n",
       "      <td>B05_17000000010000000829</td>\n",
       "      <td>/opt/nudrive-toolkit/test/records/B05_17000000...</td>\n",
       "      <td>/vehicle/analog/brake_signal</td>\n",
       "      <td>std_msgs/Bool</td>\n",
       "      <td>[analog, signal, vehicle, brake]</td>\n",
       "    </tr>\n",
       "    <tr>\n",
       "      <th>1</th>\n",
       "      <td>B05_17000000010000000829</td>\n",
       "      <td>/opt/nudrive-toolkit/test/records/B05_17000000...</td>\n",
       "      <td>/vehicle/analog/back_signal</td>\n",
       "      <td>std_msgs/Bool</td>\n",
       "      <td>[analog, signal, vehicle, back]</td>\n",
       "    </tr>\n",
       "    <tr>\n",
       "      <th>2</th>\n",
       "      <td>B05_17000000010000000829</td>\n",
       "      <td>/opt/nudrive-toolkit/test/records/B05_17000000...</td>\n",
       "      <td>/vehicle/analog/turn_signal</td>\n",
       "      <td>std_msgs/UInt8</td>\n",
       "      <td>[analog, signal, vehicle, turn]</td>\n",
       "    </tr>\n",
       "    <tr>\n",
       "      <th>3</th>\n",
       "      <td>B05_17000000010000000829</td>\n",
       "      <td>/opt/nudrive-toolkit/test/records/B05_17000000...</td>\n",
       "      <td>/vehicle/analog/speed_pulse</td>\n",
       "      <td>std_msgs/UInt8</td>\n",
       "      <td>[analog, vehicle, pulse, speed]</td>\n",
       "    </tr>\n",
       "  </tbody>\n",
       "</table>\n",
       "</div>"
      ],
      "text/plain": [
       "                  record_id  \\\n",
       "0  B05_17000000010000000829   \n",
       "1  B05_17000000010000000829   \n",
       "2  B05_17000000010000000829   \n",
       "3  B05_17000000010000000829   \n",
       "\n",
       "                                                path  \\\n",
       "0  /opt/nudrive-toolkit/test/records/B05_17000000...   \n",
       "1  /opt/nudrive-toolkit/test/records/B05_17000000...   \n",
       "2  /opt/nudrive-toolkit/test/records/B05_17000000...   \n",
       "3  /opt/nudrive-toolkit/test/records/B05_17000000...   \n",
       "\n",
       "                        content        msg_type  \\\n",
       "0  /vehicle/analog/brake_signal   std_msgs/Bool   \n",
       "1   /vehicle/analog/back_signal   std_msgs/Bool   \n",
       "2   /vehicle/analog/turn_signal  std_msgs/UInt8   \n",
       "3   /vehicle/analog/speed_pulse  std_msgs/UInt8   \n",
       "\n",
       "                                tag  \n",
       "0  [analog, signal, vehicle, brake]  \n",
       "1   [analog, signal, vehicle, back]  \n",
       "2   [analog, signal, vehicle, turn]  \n",
       "3   [analog, vehicle, pulse, speed]  "
      ]
     },
     "execution_count": 8,
     "metadata": {},
     "output_type": "execute_result"
    }
   ],
   "source": [
    "import os\n",
    "from dwtk.db import V3DBHandler as DBHandler\n",
    "\n",
    "path_to_test_dir = os.path.join(os.getcwd(), '../../test')\n",
    "\n",
    "db_handler = DBHandler(\n",
    "    db_class='meta',\n",
    "    db_host=os.path.join(path_to_test_dir, 'test.db'),\n",
    "    base_dir_path=path_to_test_dir,\n",
    "    read_on_init=False\n",
    ")\n",
    "db_handler.read(where='tags like \"%analog%\"')\n",
    "db_handler.content_df"
   ]
  },
  {
   "cell_type": "markdown",
   "metadata": {
    "collapsed": false
   },
   "source": [
    "You can also use Pandas' `filter` function to filter metadata.  \n",
    "For example, if you want to search for speed signals... "
   ]
  },
  {
   "cell_type": "code",
   "execution_count": 9,
   "metadata": {
    "collapsed": false,
    "pycharm": {
     "name": "#%%\n"
    }
   },
   "outputs": [
    {
     "data": {
      "text/html": [
       "<div>\n",
       "<style scoped>\n",
       "    .dataframe tbody tr th:only-of-type {\n",
       "        vertical-align: middle;\n",
       "    }\n",
       "\n",
       "    .dataframe tbody tr th {\n",
       "        vertical-align: top;\n",
       "    }\n",
       "\n",
       "    .dataframe thead th {\n",
       "        text-align: right;\n",
       "    }\n",
       "</style>\n",
       "<table border=\"1\" class=\"dataframe\">\n",
       "  <thead>\n",
       "    <tr style=\"text-align: right;\">\n",
       "      <th></th>\n",
       "      <th>record_id</th>\n",
       "      <th>path</th>\n",
       "      <th>content</th>\n",
       "      <th>msg_type</th>\n",
       "      <th>tag</th>\n",
       "    </tr>\n",
       "  </thead>\n",
       "  <tbody>\n",
       "    <tr>\n",
       "      <th>3</th>\n",
       "      <td>B05_17000000010000000829</td>\n",
       "      <td>/opt/nudrive-toolkit/test/records/B05_17000000...</td>\n",
       "      <td>/vehicle/analog/speed_pulse</td>\n",
       "      <td>std_msgs/UInt8</td>\n",
       "      <td>[analog, vehicle, pulse, speed]</td>\n",
       "    </tr>\n",
       "  </tbody>\n",
       "</table>\n",
       "</div>"
      ],
      "text/plain": [
       "                  record_id  \\\n",
       "3  B05_17000000010000000829   \n",
       "\n",
       "                                                path  \\\n",
       "3  /opt/nudrive-toolkit/test/records/B05_17000000...   \n",
       "\n",
       "                       content        msg_type  \\\n",
       "3  /vehicle/analog/speed_pulse  std_msgs/UInt8   \n",
       "\n",
       "                               tag  \n",
       "3  [analog, vehicle, pulse, speed]  "
      ]
     },
     "execution_count": 9,
     "metadata": {},
     "output_type": "execute_result"
    }
   ],
   "source": [
    "db_handler.df.query('tags.str.contains(\"speed\")', inplace=True)\n",
    "db_handler.content_df"
   ]
  },
  {
   "cell_type": "markdown",
   "metadata": {
    "collapsed": false,
    "pycharm": {
     "name": "#%% md\n"
    }
   },
   "source": [
    "## Iterate metadata\n",
    "\n",
    "You can get metadata one-by-one as `DBHandler` works as a iterator.  \n",
    "To get a sample, just use `next()` method.\n",
    "A metadata will be returned as a dict."
   ]
  },
  {
   "cell_type": "code",
   "execution_count": 10,
   "metadata": {
    "collapsed": false,
    "pycharm": {
     "name": "#%%\n"
    }
   },
   "outputs": [
    {
     "data": {
      "text/plain": [
       "{'description': 'Driving Database',\n",
       " 'database_id': 'Driving Behavior Database',\n",
       " 'record_id': 'B05_17000000010000000829',\n",
       " 'data_type': 'raw_data',\n",
       " 'path': '/opt/nudrive-toolkit/test/records/B05_17000000010000000829/data/records.bag',\n",
       " 'start_timestamp': 1517463303.0,\n",
       " 'end_timestamp': 1517463303.95,\n",
       " 'content_type': 'application/rosbag',\n",
       " 'contents': '/vehicle/analog/speed_pulse',\n",
       " 'msg_type': 'std_msgs/UInt8',\n",
       " 'msg_md5sum': '7c8164229e7d2c17eb95e9231617fdee',\n",
       " 'count': 20.0,\n",
       " 'frequency': 20.000019073504518,\n",
       " 'tags': ['vehicle', 'analog', 'speed', 'pulse']}"
      ]
     },
     "execution_count": 10,
     "metadata": {},
     "output_type": "execute_result"
    }
   ],
   "source": [
    "sample = next(db_handler)\n",
    "sample"
   ]
  },
  {
   "cell_type": "markdown",
   "metadata": {
    "collapsed": false
   },
   "source": [
    "## Grab data\n",
    "\n",
    "Based on the metadata, we can grab the actual data as a numpy array from the corresponding file.  \n",
    "`BaseFileReader` automatically chooses an appropriate model to load the file based on the given metadata.  \n",
    "Thus, you can simple call `read` function to grab data as follows."
   ]
  },
  {
   "cell_type": "code",
   "execution_count": 14,
   "metadata": {
    "collapsed": false,
    "pycharm": {
     "name": "#%%\n"
    }
   },
   "outputs": [
    {
     "name": "stdout",
     "output_type": "stream",
     "text": [
      "# of frames: 20\n"
     ]
    }
   ],
   "source": [
    "from dwtk.io import BaseFileReader, NoModelMatchedError\n",
    "\n",
    "reader = BaseFileReader()\n",
    "\n",
    "try:\n",
    "    timestamps, data, columns = reader.read(sample)\n",
    "    print('# of frames: {}'.format(len(timestamps)))\n",
    "except NoModelMatchedError as e:\n",
    "    print(str(e))"
   ]
  },
  {
   "cell_type": "markdown",
   "metadata": {
    "collapsed": false,
    "pycharm": {
     "name": "#%% md\n"
    }
   },
   "source": [
    "Let's check the ndarray."
   ]
  },
  {
   "cell_type": "code",
   "execution_count": 30,
   "metadata": {
    "collapsed": false,
    "pycharm": {
     "name": "#%%\n"
    }
   },
   "outputs": [],
   "source": [
    "timestamps?"
   ]
  },
  {
   "cell_type": "code",
   "execution_count": 31,
   "metadata": {
    "collapsed": false,
    "pycharm": {
     "name": "#%%\n"
    }
   },
   "outputs": [],
   "source": [
    "data?"
   ]
  },
  {
   "cell_type": "code",
   "execution_count": 28,
   "metadata": {
    "collapsed": false,
    "pycharm": {
     "name": "#%%\n"
    }
   },
   "outputs": [],
   "source": [
    "columns?"
   ]
  },
  {
   "cell_type": "code",
   "execution_count": null,
   "metadata": {
    "collapsed": false,
    "pycharm": {
     "name": "#%%\n"
    }
   },
   "outputs": [],
   "source": [
    "\n"
   ]
  }
 ],
 "metadata": {
  "kernelspec": {
   "display_name": "Python 3",
   "language": "python",
   "name": "python3"
  },
  "language_info": {
   "codemirror_mode": {
    "name": "ipython",
    "version": 3
   },
   "file_extension": ".py",
   "mimetype": "text/x-python",
   "name": "python",
   "nbconvert_exporter": "python",
   "pygments_lexer": "ipython3",
   "version": "3.6.9"
  }
 },
 "nbformat": 4,
 "nbformat_minor": 1
}
