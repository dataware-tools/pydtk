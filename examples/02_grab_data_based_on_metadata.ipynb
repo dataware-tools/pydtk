{
 "cells": [
  {
   "cell_type": "markdown",
   "metadata": {
    "pycharm": {
     "name": "#%% md\n"
    }
   },
   "source": [
    "# Example 2: Grab data based on metadata\n",
    "\n",
    "In this example, we will learn how to grab the actual data based on metadata."
   ]
  },
  {
   "cell_type": "markdown",
   "metadata": {},
   "source": [
    "## Filter metadata\n",
    "\n",
    "Just like how we did in the previous example, let's search metadata of Analog signals as an example."
   ]
  },
  {
   "cell_type": "code",
   "execution_count": 1,
   "metadata": {
    "pycharm": {
     "name": "#%%\n"
    }
   },
   "outputs": [
    {
     "data": {
      "text/html": [
       "<div>\n",
       "<style scoped>\n",
       "    .dataframe tbody tr th:only-of-type {\n",
       "        vertical-align: middle;\n",
       "    }\n",
       "\n",
       "    .dataframe tbody tr th {\n",
       "        vertical-align: top;\n",
       "    }\n",
       "\n",
       "    .dataframe thead th {\n",
       "        text-align: right;\n",
       "    }\n",
       "</style>\n",
       "<table border=\"1\" class=\"dataframe\">\n",
       "  <thead>\n",
       "    <tr style=\"text-align: right;\">\n",
       "      <th></th>\n",
       "      <th>record_id</th>\n",
       "      <th>path</th>\n",
       "      <th>content</th>\n",
       "      <th>msg_type</th>\n",
       "      <th>tag</th>\n",
       "    </tr>\n",
       "    <tr>\n",
       "      <th>uuid_in_df</th>\n",
       "      <th></th>\n",
       "      <th></th>\n",
       "      <th></th>\n",
       "      <th></th>\n",
       "      <th></th>\n",
       "    </tr>\n",
       "  </thead>\n",
       "  <tbody>\n",
       "    <tr>\n",
       "      <th>5738d5ce2396719f8547cdba8a11fd87</th>\n",
       "      <td>B05_17000000010000000829</td>\n",
       "      <td>/opt/pydtk/test/records/B05_170000000100000008...</td>\n",
       "      <td>/vehicle/analog/turn_signal</td>\n",
       "      <td>std_msgs/UInt8</td>\n",
       "      <td>[signal, vehicle, turn, analog]</td>\n",
       "    </tr>\n",
       "    <tr>\n",
       "      <th>62467411122b2cadd9fc84d5971e26da</th>\n",
       "      <td>B05_17000000010000000829</td>\n",
       "      <td>/opt/pydtk/test/records/B05_170000000100000008...</td>\n",
       "      <td>/vehicle/analog/speed_pulse</td>\n",
       "      <td>std_msgs/UInt8</td>\n",
       "      <td>[vehicle, pulse, analog, speed]</td>\n",
       "    </tr>\n",
       "    <tr>\n",
       "      <th>aef4120ef2309a1ddb79f92f6087f559</th>\n",
       "      <td>B05_17000000010000000829</td>\n",
       "      <td>/opt/pydtk/test/records/B05_170000000100000008...</td>\n",
       "      <td>/vehicle/analog/brake_signal</td>\n",
       "      <td>std_msgs/Bool</td>\n",
       "      <td>[brake, vehicle, analog, signal]</td>\n",
       "    </tr>\n",
       "    <tr>\n",
       "      <th>b2fa32697cd93b0de12bc64d28421753</th>\n",
       "      <td>B05_17000000010000000829</td>\n",
       "      <td>/opt/pydtk/test/records/B05_170000000100000008...</td>\n",
       "      <td>/vehicle/analog/back_signal</td>\n",
       "      <td>std_msgs/Bool</td>\n",
       "      <td>[signal, vehicle, analog, back]</td>\n",
       "    </tr>\n",
       "  </tbody>\n",
       "</table>\n",
       "</div>"
      ],
      "text/plain": [
       "                                                 record_id  \\\n",
       "uuid_in_df                                                   \n",
       "5738d5ce2396719f8547cdba8a11fd87  B05_17000000010000000829   \n",
       "62467411122b2cadd9fc84d5971e26da  B05_17000000010000000829   \n",
       "aef4120ef2309a1ddb79f92f6087f559  B05_17000000010000000829   \n",
       "b2fa32697cd93b0de12bc64d28421753  B05_17000000010000000829   \n",
       "\n",
       "                                                                               path  \\\n",
       "uuid_in_df                                                                            \n",
       "5738d5ce2396719f8547cdba8a11fd87  /opt/pydtk/test/records/B05_170000000100000008...   \n",
       "62467411122b2cadd9fc84d5971e26da  /opt/pydtk/test/records/B05_170000000100000008...   \n",
       "aef4120ef2309a1ddb79f92f6087f559  /opt/pydtk/test/records/B05_170000000100000008...   \n",
       "b2fa32697cd93b0de12bc64d28421753  /opt/pydtk/test/records/B05_170000000100000008...   \n",
       "\n",
       "                                                       content  \\\n",
       "uuid_in_df                                                       \n",
       "5738d5ce2396719f8547cdba8a11fd87   /vehicle/analog/turn_signal   \n",
       "62467411122b2cadd9fc84d5971e26da   /vehicle/analog/speed_pulse   \n",
       "aef4120ef2309a1ddb79f92f6087f559  /vehicle/analog/brake_signal   \n",
       "b2fa32697cd93b0de12bc64d28421753   /vehicle/analog/back_signal   \n",
       "\n",
       "                                        msg_type  \\\n",
       "uuid_in_df                                         \n",
       "5738d5ce2396719f8547cdba8a11fd87  std_msgs/UInt8   \n",
       "62467411122b2cadd9fc84d5971e26da  std_msgs/UInt8   \n",
       "aef4120ef2309a1ddb79f92f6087f559   std_msgs/Bool   \n",
       "b2fa32697cd93b0de12bc64d28421753   std_msgs/Bool   \n",
       "\n",
       "                                                               tag  \n",
       "uuid_in_df                                                          \n",
       "5738d5ce2396719f8547cdba8a11fd87   [signal, vehicle, turn, analog]  \n",
       "62467411122b2cadd9fc84d5971e26da   [vehicle, pulse, analog, speed]  \n",
       "aef4120ef2309a1ddb79f92f6087f559  [brake, vehicle, analog, signal]  \n",
       "b2fa32697cd93b0de12bc64d28421753   [signal, vehicle, analog, back]  "
      ]
     },
     "execution_count": 1,
     "metadata": {},
     "output_type": "execute_result"
    }
   ],
   "source": [
    "import os\n",
    "from pydtk.db import V3DBHandler as DBHandler\n",
    "\n",
    "db_handler = DBHandler(\n",
    "    db_class='meta',\n",
    "    db_host='./example.db',\n",
    "    base_dir_path='../test',\n",
    "    read_on_init=False\n",
    ")\n",
    "db_handler.read(where='tags like \"%analog%\"')\n",
    "db_handler.content_df"
   ]
  },
  {
   "cell_type": "markdown",
   "metadata": {},
   "source": [
    "You can also use Pandas' `filter` function to filter metadata.  \n",
    "For example, if you want to search for speed signals... "
   ]
  },
  {
   "cell_type": "code",
   "execution_count": 2,
   "metadata": {
    "pycharm": {
     "name": "#%%\n"
    }
   },
   "outputs": [
    {
     "data": {
      "text/html": [
       "<div>\n",
       "<style scoped>\n",
       "    .dataframe tbody tr th:only-of-type {\n",
       "        vertical-align: middle;\n",
       "    }\n",
       "\n",
       "    .dataframe tbody tr th {\n",
       "        vertical-align: top;\n",
       "    }\n",
       "\n",
       "    .dataframe thead th {\n",
       "        text-align: right;\n",
       "    }\n",
       "</style>\n",
       "<table border=\"1\" class=\"dataframe\">\n",
       "  <thead>\n",
       "    <tr style=\"text-align: right;\">\n",
       "      <th></th>\n",
       "      <th>record_id</th>\n",
       "      <th>path</th>\n",
       "      <th>content</th>\n",
       "      <th>msg_type</th>\n",
       "      <th>tag</th>\n",
       "    </tr>\n",
       "    <tr>\n",
       "      <th>uuid_in_df</th>\n",
       "      <th></th>\n",
       "      <th></th>\n",
       "      <th></th>\n",
       "      <th></th>\n",
       "      <th></th>\n",
       "    </tr>\n",
       "  </thead>\n",
       "  <tbody>\n",
       "    <tr>\n",
       "      <th>62467411122b2cadd9fc84d5971e26da</th>\n",
       "      <td>B05_17000000010000000829</td>\n",
       "      <td>/opt/pydtk/test/records/B05_170000000100000008...</td>\n",
       "      <td>/vehicle/analog/speed_pulse</td>\n",
       "      <td>std_msgs/UInt8</td>\n",
       "      <td>[vehicle, pulse, analog, speed]</td>\n",
       "    </tr>\n",
       "  </tbody>\n",
       "</table>\n",
       "</div>"
      ],
      "text/plain": [
       "                                                 record_id  \\\n",
       "uuid_in_df                                                   \n",
       "62467411122b2cadd9fc84d5971e26da  B05_17000000010000000829   \n",
       "\n",
       "                                                                               path  \\\n",
       "uuid_in_df                                                                            \n",
       "62467411122b2cadd9fc84d5971e26da  /opt/pydtk/test/records/B05_170000000100000008...   \n",
       "\n",
       "                                                      content        msg_type  \\\n",
       "uuid_in_df                                                                      \n",
       "62467411122b2cadd9fc84d5971e26da  /vehicle/analog/speed_pulse  std_msgs/UInt8   \n",
       "\n",
       "                                                              tag  \n",
       "uuid_in_df                                                         \n",
       "62467411122b2cadd9fc84d5971e26da  [vehicle, pulse, analog, speed]  "
      ]
     },
     "execution_count": 2,
     "metadata": {},
     "output_type": "execute_result"
    }
   ],
   "source": [
    "db_handler.df.query('tags.str.contains(\"speed\")', inplace=True)\n",
    "db_handler.content_df"
   ]
  },
  {
   "cell_type": "markdown",
   "metadata": {
    "pycharm": {
     "name": "#%% md\n"
    }
   },
   "source": [
    "## Iterate metadata\n",
    "\n",
    "You can get metadata one-by-one as `DBHandler` works as a iterator.  \n",
    "To get a sample, just use `next()` method.\n",
    "A metadata will be returned as a dict."
   ]
  },
  {
   "cell_type": "code",
   "execution_count": 3,
   "metadata": {
    "pycharm": {
     "name": "#%%\n"
    }
   },
   "outputs": [
    {
     "data": {
      "text/plain": [
       "{'description': 'Driving Database',\n",
       " 'database_id': 'Driving Behavior Database',\n",
       " 'record_id': 'B05_17000000010000000829',\n",
       " 'sub_record_id': None,\n",
       " 'data_type': 'raw_data',\n",
       " 'path': '/opt/pydtk/test/records/B05_17000000010000000829/data/records.bag',\n",
       " 'start_timestamp': 1517463303.0,\n",
       " 'end_timestamp': 1517463303.95,\n",
       " 'content_type': 'application/rosbag',\n",
       " 'contents': {'/vehicle/analog/speed_pulse': {'msg_type': 'std_msgs/UInt8',\n",
       "   'msg_md5sum': '7c8164229e7d2c17eb95e9231617fdee',\n",
       "   'count': 20,\n",
       "   'frequency': 20.000019073504518,\n",
       "   'tags': ['vehicle', 'analog', 'speed', 'pulse']}}}"
      ]
     },
     "execution_count": 3,
     "metadata": {},
     "output_type": "execute_result"
    }
   ],
   "source": [
    "sample = next(db_handler)\n",
    "sample"
   ]
  },
  {
   "cell_type": "markdown",
   "metadata": {},
   "source": [
    "## Grab data\n",
    "\n",
    "Based on the metadata, we can grab the actual data as a numpy array from the corresponding file.  \n",
    "`BaseFileReader` automatically chooses an appropriate model to load the file based on the given metadata.  \n",
    "Thus, you can simple call `read` function to grab data as follows."
   ]
  },
  {
   "cell_type": "code",
   "execution_count": 4,
   "metadata": {
    "pycharm": {
     "name": "#%%\n"
    }
   },
   "outputs": [
    {
     "name": "stderr",
     "output_type": "stream",
     "text": [
      "Failed to load Python extension for LZ4 support. LZ4 compression will not be available.\n"
     ]
    },
    {
     "name": "stdout",
     "output_type": "stream",
     "text": [
      "# of frames: 20\n"
     ]
    }
   ],
   "source": [
    "from pydtk.io import BaseFileReader, NoModelMatchedError\n",
    "\n",
    "reader = BaseFileReader()\n",
    "\n",
    "try:\n",
    "    timestamps, data, columns = reader.read(sample)\n",
    "    print('# of frames: {}'.format(len(timestamps)))\n",
    "except NoModelMatchedError as e:\n",
    "    print(str(e))"
   ]
  },
  {
   "cell_type": "markdown",
   "metadata": {
    "pycharm": {
     "name": "#%% md\n"
    }
   },
   "source": [
    "Let's check the ndarray."
   ]
  },
  {
   "cell_type": "code",
   "execution_count": 5,
   "metadata": {
    "pycharm": {
     "name": "#%%\n"
    }
   },
   "outputs": [],
   "source": [
    "timestamps?"
   ]
  },
  {
   "cell_type": "code",
   "execution_count": 6,
   "metadata": {
    "pycharm": {
     "name": "#%%\n"
    }
   },
   "outputs": [],
   "source": [
    "data?"
   ]
  },
  {
   "cell_type": "code",
   "execution_count": 7,
   "metadata": {
    "pycharm": {
     "name": "#%%\n"
    }
   },
   "outputs": [],
   "source": [
    "columns?"
   ]
  },
  {
   "cell_type": "code",
   "execution_count": null,
   "metadata": {
    "pycharm": {
     "name": "#%%\n"
    }
   },
   "outputs": [],
   "source": [
    "\n"
   ]
  }
 ],
 "metadata": {
  "kernelspec": {
   "display_name": "Python 3",
   "language": "python",
   "name": "python3"
  },
  "language_info": {
   "codemirror_mode": {
    "name": "ipython",
    "version": 3
   },
   "file_extension": ".py",
   "mimetype": "text/x-python",
   "name": "python",
   "nbconvert_exporter": "python",
   "pygments_lexer": "ipython3",
   "version": "3.6.9"
  }
 },
 "nbformat": 4,
 "nbformat_minor": 1
}
