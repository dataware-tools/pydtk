{
 "cells": [
  {
   "cell_type": "markdown",
   "metadata": {
    "pycharm": {
     "name": "#%% md\n"
    }
   },
   "source": [
    "# Example 2: Grab data based on metadata\n",
    "\n",
    "In this example, we will learn how to grab the actual data based on metadata."
   ]
  },
  {
   "cell_type": "markdown",
   "metadata": {},
   "source": [
    "## Filter metadata\n",
    "\n",
    "Just like how we have done in the previous example, let's search for files containing `camera/front-center`."
   ]
  },
  {
   "cell_type": "code",
   "execution_count": 1,
   "metadata": {
    "pycharm": {
     "name": "#%%\n"
    }
   },
   "outputs": [
    {
     "data": {
      "text/html": [
       "<div>\n",
       "<style scoped>\n",
       "    .dataframe tbody tr th:only-of-type {\n",
       "        vertical-align: middle;\n",
       "    }\n",
       "\n",
       "    .dataframe tbody tr th {\n",
       "        vertical-align: top;\n",
       "    }\n",
       "\n",
       "    .dataframe thead th {\n",
       "        text-align: right;\n",
       "    }\n",
       "</style>\n",
       "<table border=\"1\" class=\"dataframe\">\n",
       "  <thead>\n",
       "    <tr style=\"text-align: right;\">\n",
       "      <th></th>\n",
       "      <th>Record ID</th>\n",
       "      <th>File path</th>\n",
       "      <th>content</th>\n",
       "      <th>tag</th>\n",
       "    </tr>\n",
       "  </thead>\n",
       "  <tbody>\n",
       "    <tr>\n",
       "      <th>0</th>\n",
       "      <td>csv_model_test</td>\n",
       "      <td>/opt/pydtk/test/records/csv_model_test/data/te...</td>\n",
       "      <td>{'camera/front-center': {'tags': ['camera', 'f...</td>\n",
       "      <td>NaN</td>\n",
       "    </tr>\n",
       "  </tbody>\n",
       "</table>\n",
       "</div>"
      ],
      "text/plain": [
       "        Record ID                                          File path  \\\n",
       "0  csv_model_test  /opt/pydtk/test/records/csv_model_test/data/te...   \n",
       "\n",
       "                                             content  tag  \n",
       "0  {'camera/front-center': {'tags': ['camera', 'f...  NaN  "
      ]
     },
     "execution_count": 1,
     "metadata": {},
     "output_type": "execute_result"
    }
   ],
   "source": [
    "import os\n",
    "from pydtk.db import DBHandler\n",
    "\n",
    "db_handler = DBHandler(\n",
    "    db_class='meta',\n",
    "    db_host='./example_db',\n",
    "    base_dir_path='../test'\n",
    ")\n",
    "db_handler.read(pql='\"contents.camera/front-center\" == exists(True)')\n",
    "db_handler.content_df\n"
   ]
  },
  {
   "cell_type": "markdown",
   "metadata": {
    "pycharm": {
     "name": "#%% md\n"
    }
   },
   "source": [
    "Note that metadata here is associated to each file containing the actual data.  \n",
    "Thus, if a file has more than one contents (e.g., A rosbag file can store multiple signals), \n",
    "then those which are other than `camera/front-center` are also retrieved.\n"
   ]
  },
  {
   "cell_type": "markdown",
   "metadata": {
    "pycharm": {
     "name": "#%% md\n"
    }
   },
   "source": [
    "## Iterate metadata\n",
    "\n",
    "You can get metadata one-by-one as `DBHandler` works as an iterator.  \n",
    "To get a sample, just use `next()` method.  \n",
    "Metadata will be returned as a dict."
   ]
  },
  {
   "cell_type": "code",
   "execution_count": 2,
   "metadata": {
    "pycharm": {
     "name": "#%%\n"
    }
   },
   "outputs": [
    {
     "data": {
      "text/plain": [
       "{'description': 'Description',\n",
       " 'record_id': 'csv_model_test',\n",
       " 'data_type': 'raw_data',\n",
       " 'path': '/opt/pydtk/test/records/csv_model_test/data/test.csv',\n",
       " 'start_timestamp': 1489728491.0,\n",
       " 'end_timestamp': 1489728570.957,\n",
       " 'content_type': 'text/csv',\n",
       " 'contents': {'camera/front-center': {'tags': ['camera',\n",
       "    'front',\n",
       "    'center',\n",
       "    'timestamps']}},\n",
       " '_id': '6ee6a5ceb79111eba234acde48001122'}"
      ]
     },
     "execution_count": 2,
     "metadata": {},
     "output_type": "execute_result"
    }
   ],
   "source": [
    "sample = next(db_handler)\n",
    "sample"
   ]
  },
  {
   "cell_type": "markdown",
   "metadata": {},
   "source": [
    "## Grab data\n",
    "\n",
    "Based on the metadata, we can grab the actual data as a numpy array from the corresponding file.  \n",
    "`BaseFileReader` automatically chooses an appropriate model to load the file based on the given metadata.  \n",
    "Thus, you can simple call `read` function to grab data as follows."
   ]
  },
  {
   "cell_type": "code",
   "execution_count": 3,
   "metadata": {
    "pycharm": {
     "name": "#%%\n"
    }
   },
   "outputs": [
    {
     "name": "stderr",
     "output_type": "stream",
     "text": [
      "WARNING:root:Failed to load models in autoware\n",
      "WARNING:root:Failed to load models in movie.py\n",
      "WARNING:root:Failed to load models in rosbag.py\n"
     ]
    },
    {
     "name": "stdout",
     "output_type": "stream",
     "text": [
      "# of frames: 2400\n"
     ]
    }
   ],
   "source": [
    "from pydtk.io import BaseFileReader, NoModelMatchedError\n",
    "\n",
    "reader = BaseFileReader()\n",
    "\n",
    "try:\n",
    "    timestamps, data, columns = reader.read(sample)\n",
    "    print('# of frames: {}'.format(len(timestamps)))\n",
    "except NoModelMatchedError as e:\n",
    "    print(str(e))"
   ]
  },
  {
   "cell_type": "markdown",
   "metadata": {
    "pycharm": {
     "name": "#%% md\n"
    }
   },
   "source": [
    "Let's check the ndarray."
   ]
  },
  {
   "cell_type": "code",
   "execution_count": 4,
   "metadata": {
    "pycharm": {
     "name": "#%%\n"
    }
   },
   "outputs": [],
   "source": [
    "timestamps?"
   ]
  },
  {
   "cell_type": "code",
   "execution_count": 5,
   "metadata": {
    "pycharm": {
     "name": "#%%\n"
    }
   },
   "outputs": [],
   "source": [
    "data?"
   ]
  },
  {
   "cell_type": "code",
   "execution_count": 6,
   "metadata": {
    "pycharm": {
     "name": "#%%\n"
    }
   },
   "outputs": [],
   "source": [
    "columns?"
   ]
  }
 ],
 "metadata": {
  "kernelspec": {
   "display_name": "Python 3",
   "language": "python",
   "name": "python3"
  },
  "language_info": {
   "codemirror_mode": {
    "name": "ipython",
    "version": 3
   },
   "file_extension": ".py",
   "mimetype": "text/x-python",
   "name": "python",
   "nbconvert_exporter": "python",
   "pygments_lexer": "ipython3",
   "version": "3.8.5"
  }
 },
 "nbformat": 4,
 "nbformat_minor": 1
}
