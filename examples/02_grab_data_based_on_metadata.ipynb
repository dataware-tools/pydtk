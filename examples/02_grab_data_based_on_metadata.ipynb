{
 "cells": [
  {
   "cell_type": "markdown",
   "metadata": {
    "pycharm": {
     "name": "#%% md\n"
    }
   },
   "source": [
    "# Example 2: Grab data based on metadata\n",
    "\n",
    "In this example, we will learn how to grab the actual data based on metadata."
   ]
  },
  {
   "cell_type": "markdown",
   "metadata": {},
   "source": [
    "## Filter metadata\n",
    "\n",
    "Just like how we have done in the previous example, let's search for files containing `/vehicle/analog/turn_signal`."
   ]
  },
  {
   "cell_type": "code",
   "execution_count": 1,
   "metadata": {
    "pycharm": {
     "name": "#%%\n"
    }
   },
   "outputs": [
    {
     "data": {
      "text/html": [
       "<div>\n",
       "<style scoped>\n",
       "    .dataframe tbody tr th:only-of-type {\n",
       "        vertical-align: middle;\n",
       "    }\n",
       "\n",
       "    .dataframe tbody tr th {\n",
       "        vertical-align: top;\n",
       "    }\n",
       "\n",
       "    .dataframe thead th {\n",
       "        text-align: right;\n",
       "    }\n",
       "</style>\n",
       "<table border=\"1\" class=\"dataframe\">\n",
       "  <thead>\n",
       "    <tr style=\"text-align: right;\">\n",
       "      <th></th>\n",
       "      <th>record_id</th>\n",
       "      <th>path</th>\n",
       "      <th>content</th>\n",
       "      <th>msg_type</th>\n",
       "      <th>tag</th>\n",
       "    </tr>\n",
       "  </thead>\n",
       "  <tbody>\n",
       "    <tr>\n",
       "      <th>0</th>\n",
       "      <td>B05_17000000010000000829</td>\n",
       "      <td>/opt/pydtk/test/records/B05_170000000100000008...</td>\n",
       "      <td>/vehicle/acceleration</td>\n",
       "      <td>geometry_msgs/AccelStamped</td>\n",
       "      <td>[vehicle, acceleration]</td>\n",
       "    </tr>\n",
       "    <tr>\n",
       "      <th>1</th>\n",
       "      <td>B05_17000000010000000829</td>\n",
       "      <td>/opt/pydtk/test/records/B05_170000000100000008...</td>\n",
       "      <td>/vehicle/analog/back_signal</td>\n",
       "      <td>std_msgs/Bool</td>\n",
       "      <td>[vehicle, analog, back, signal]</td>\n",
       "    </tr>\n",
       "    <tr>\n",
       "      <th>2</th>\n",
       "      <td>B05_17000000010000000829</td>\n",
       "      <td>/opt/pydtk/test/records/B05_170000000100000008...</td>\n",
       "      <td>/vehicle/analog/brake_signal</td>\n",
       "      <td>std_msgs/Bool</td>\n",
       "      <td>[vehicle, analog, brake, signal]</td>\n",
       "    </tr>\n",
       "    <tr>\n",
       "      <th>3</th>\n",
       "      <td>B05_17000000010000000829</td>\n",
       "      <td>/opt/pydtk/test/records/B05_170000000100000008...</td>\n",
       "      <td>/vehicle/analog/speed_pulse</td>\n",
       "      <td>std_msgs/UInt8</td>\n",
       "      <td>[vehicle, analog, speed, pulse]</td>\n",
       "    </tr>\n",
       "    <tr>\n",
       "      <th>4</th>\n",
       "      <td>B05_17000000010000000829</td>\n",
       "      <td>/opt/pydtk/test/records/B05_170000000100000008...</td>\n",
       "      <td>/vehicle/analog/turn_signal</td>\n",
       "      <td>std_msgs/UInt8</td>\n",
       "      <td>[vehicle, analog, turn, signal]</td>\n",
       "    </tr>\n",
       "    <tr>\n",
       "      <th>5</th>\n",
       "      <td>B05_17000000010000000829</td>\n",
       "      <td>/opt/pydtk/test/records/B05_170000000100000008...</td>\n",
       "      <td>/vehicle/gnss</td>\n",
       "      <td>sensor_msgs/NavSatFix</td>\n",
       "      <td>[vehicle, gnss]</td>\n",
       "    </tr>\n",
       "  </tbody>\n",
       "</table>\n",
       "</div>"
      ],
      "text/plain": [
       "                  record_id  \\\n",
       "0  B05_17000000010000000829   \n",
       "1  B05_17000000010000000829   \n",
       "2  B05_17000000010000000829   \n",
       "3  B05_17000000010000000829   \n",
       "4  B05_17000000010000000829   \n",
       "5  B05_17000000010000000829   \n",
       "\n",
       "                                                path  \\\n",
       "0  /opt/pydtk/test/records/B05_170000000100000008...   \n",
       "1  /opt/pydtk/test/records/B05_170000000100000008...   \n",
       "2  /opt/pydtk/test/records/B05_170000000100000008...   \n",
       "3  /opt/pydtk/test/records/B05_170000000100000008...   \n",
       "4  /opt/pydtk/test/records/B05_170000000100000008...   \n",
       "5  /opt/pydtk/test/records/B05_170000000100000008...   \n",
       "\n",
       "                        content                    msg_type  \\\n",
       "0         /vehicle/acceleration  geometry_msgs/AccelStamped   \n",
       "1   /vehicle/analog/back_signal               std_msgs/Bool   \n",
       "2  /vehicle/analog/brake_signal               std_msgs/Bool   \n",
       "3   /vehicle/analog/speed_pulse              std_msgs/UInt8   \n",
       "4   /vehicle/analog/turn_signal              std_msgs/UInt8   \n",
       "5                 /vehicle/gnss       sensor_msgs/NavSatFix   \n",
       "\n",
       "                                tag  \n",
       "0           [vehicle, acceleration]  \n",
       "1   [vehicle, analog, back, signal]  \n",
       "2  [vehicle, analog, brake, signal]  \n",
       "3   [vehicle, analog, speed, pulse]  \n",
       "4   [vehicle, analog, turn, signal]  \n",
       "5                   [vehicle, gnss]  "
      ]
     },
     "execution_count": 1,
     "metadata": {},
     "output_type": "execute_result"
    }
   ],
   "source": [
    "import os\n",
    "from pydtk.db import V4DBHandler as DBHandler\n",
    "\n",
    "db_handler = DBHandler(\n",
    "    db_class='meta',\n",
    "    db_host='./example_db',\n",
    "    base_dir_path='../test',\n",
    "    read_on_init=False\n",
    ")\n",
    "db_handler.read(pql='\"contents./vehicle/analog/turn_signal\" != \"\"')\n",
    "db_handler.content_df\n"
   ]
  },
  {
   "cell_type": "markdown",
   "metadata": {
    "pycharm": {
     "name": "#%% md\n"
    }
   },
   "source": [
    "Note that metadata here is associated to each file containing the actual data.  \n",
    "Thus, if a file has more than one contents (e.g., A rosbag file can store multiple signals), \n",
    "then those which are other than `/vehicle/analog/turn_signal` are also retrieved.\n"
   ]
  },
  {
   "cell_type": "markdown",
   "metadata": {
    "pycharm": {
     "name": "#%% md\n"
    }
   },
   "source": [
    "## Iterate metadata\n",
    "\n",
    "You can get metadata one-by-one as `DBHandler` works as an iterator.  \n",
    "To get a sample, just use `next()` method.  \n",
    "Metadata will be returned as a dict."
   ]
  },
  {
   "cell_type": "code",
   "execution_count": 2,
   "metadata": {
    "pycharm": {
     "name": "#%%\n"
    }
   },
   "outputs": [
    {
     "data": {
      "text/plain": [
       "{'description': 'Driving Database',\n",
       " 'database_id': 'Driving Behavior Database',\n",
       " 'record_id': 'B05_17000000010000000829',\n",
       " 'data_type': 'raw_data',\n",
       " 'path': '/opt/pydtk/test/records/B05_17000000010000000829/data/records.bag',\n",
       " 'start_timestamp': 1517463303.0,\n",
       " 'end_timestamp': 1517463303.95,\n",
       " 'content_type': 'application/rosbag',\n",
       " 'contents': {'/vehicle/acceleration': {'msg_type': 'geometry_msgs/AccelStamped',\n",
       "   'msg_md5sum': 'd8a98a5d81351b6eb0578c78557e7659',\n",
       "   'count': 10,\n",
       "   'frequency': 10.000009536752259,\n",
       "   'tags': ['vehicle', 'acceleration']}},\n",
       " '_id': 'd9f7651a783511eb8dd0acde48001122'}"
      ]
     },
     "execution_count": 2,
     "metadata": {},
     "output_type": "execute_result"
    }
   ],
   "source": [
    "sample = next(db_handler)\n",
    "sample"
   ]
  },
  {
   "cell_type": "markdown",
   "metadata": {},
   "source": [
    "## Grab data\n",
    "\n",
    "Based on the metadata, we can grab the actual data as a numpy array from the corresponding file.  \n",
    "`BaseFileReader` automatically chooses an appropriate model to load the file based on the given metadata.  \n",
    "Thus, you can simple call `read` function to grab data as follows."
   ]
  },
  {
   "cell_type": "code",
   "execution_count": 3,
   "metadata": {
    "pycharm": {
     "name": "#%%\n"
    }
   },
   "outputs": [
    {
     "name": "stderr",
     "output_type": "stream",
     "text": [
      "WARNING:rosout:Failed to load Python extension for LZ4 support. LZ4 compression will not be available.\n",
      "WARNING:root:Failed to load models in pointcloud\n"
     ]
    },
    {
     "name": "stdout",
     "output_type": "stream",
     "text": [
      "# of frames: 10\n"
     ]
    }
   ],
   "source": [
    "from pydtk.io import BaseFileReader, NoModelMatchedError\n",
    "\n",
    "reader = BaseFileReader()\n",
    "\n",
    "try:\n",
    "    timestamps, data, columns = reader.read(sample)\n",
    "    print('# of frames: {}'.format(len(timestamps)))\n",
    "except NoModelMatchedError as e:\n",
    "    print(str(e))"
   ]
  },
  {
   "cell_type": "markdown",
   "metadata": {
    "pycharm": {
     "name": "#%% md\n"
    }
   },
   "source": [
    "Let's check the ndarray."
   ]
  },
  {
   "cell_type": "code",
   "execution_count": 4,
   "metadata": {
    "pycharm": {
     "name": "#%%\n"
    }
   },
   "outputs": [],
   "source": [
    "timestamps?"
   ]
  },
  {
   "cell_type": "code",
   "execution_count": 5,
   "metadata": {
    "pycharm": {
     "name": "#%%\n"
    }
   },
   "outputs": [],
   "source": [
    "data?"
   ]
  },
  {
   "cell_type": "code",
   "execution_count": 6,
   "metadata": {
    "pycharm": {
     "name": "#%%\n"
    }
   },
   "outputs": [],
   "source": [
    "columns?"
   ]
  }
 ],
 "metadata": {
  "kernelspec": {
   "display_name": "Python 3",
   "language": "python",
   "name": "python3"
  },
  "language_info": {
   "codemirror_mode": {
    "name": "ipython",
    "version": 3
   },
   "file_extension": ".py",
   "mimetype": "text/x-python",
   "name": "python",
   "nbconvert_exporter": "python",
   "pygments_lexer": "ipython3",
   "version": "3.6.9"
  }
 },
 "nbformat": 4,
 "nbformat_minor": 1
}