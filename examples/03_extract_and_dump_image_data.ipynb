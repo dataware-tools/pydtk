{
 "cells": [
  {
   "cell_type": "markdown",
   "metadata": {
    "pycharm": {
     "name": "#%% md\n"
    }
   },
   "source": [
    "# Example 3: Extract and dump image data\n",
    "\n",
    "In this example, we will learn how to extract and dump image data.  "
   ]
  },
  {
   "cell_type": "code",
   "execution_count": 1,
   "metadata": {
    "pycharm": {
     "name": "#%%\n"
    }
   },
   "outputs": [
    {
     "name": "stdout",
     "output_type": "stream",
     "text": [
      "# of metadata: 1\n"
     ]
    }
   ],
   "source": [
    "from dwtk.db import V3DBHandler as DBHandler\n",
    "\n",
    "db_handler = DBHandler(\n",
    "    db_class='meta',\n",
    "    db_host='/data_pool_1/small_DrivingBehaviorDatabase/dwtk.db',\n",
    "    base_dir_path='/data_pool_1/small_DrivingBehaviorDatabase',\n",
    "    read_on_init=False\n",
    ")\n",
    "db_handler.read(where=\n",
    "                'tags like \"%camera%\" '\n",
    "                'and tags like \"%image%\" '\n",
    "                'and tags like \"%front%\" '\n",
    "                'and tags like \"%center%\" '\n",
    "                'and record_id like \"%016_00000000030000000240%\"')\n",
    "print('# of metadata: {}'.format(len(db_handler.df)))"
   ]
  },
  {
   "cell_type": "markdown",
   "metadata": {
    "pycharm": {
     "name": "#%% md\n"
    }
   },
   "source": [
    "For now, we only collect images of one trip as we just want to see the workflow."
   ]
  },
  {
   "cell_type": "code",
   "execution_count": 2,
   "metadata": {
    "pycharm": {
     "name": "#%% \n"
    }
   },
   "outputs": [
    {
     "data": {
      "text/plain": [
       "{'description': 'Driving Database',\n",
       " 'database_id': 'Driving Behavior Database',\n",
       " 'record_id': '016_00000000030000000240',\n",
       " 'data_type': 'raw_data',\n",
       " 'path': '/data_pool_1/small_DrivingBehaviorDatabase/records/016_00000000030000000240/data/camera_01.mp4',\n",
       " 'start_timestamp': 1489728491.0,\n",
       " 'end_timestamp': 1489728570.957,\n",
       " 'content_type': 'video/mp4',\n",
       " 'contents': 'camera/front-center',\n",
       " 'msg_type': None,\n",
       " 'msg_md5sum': None,\n",
       " 'count': None,\n",
       " 'frequency': None,\n",
       " 'tags': ['camera', 'front', 'center', 'image']}"
      ]
     },
     "execution_count": 2,
     "metadata": {},
     "output_type": "execute_result"
    }
   ],
   "source": [
    "sample = next(db_handler)\n",
    "sample"
   ]
  },
  {
   "cell_type": "markdown",
   "metadata": {
    "pycharm": {
     "name": "#%% md\n"
    }
   },
   "source": [
    "The straightforward way is to load a video file and save image file frame-by-frame.\n",
    "But in this method, as all the frames will be loaded from the file at first,\n",
    "it takes a long time until the process of the first frame begins as follows.  "
   ]
  },
  {
   "cell_type": "code",
   "execution_count": 3,
   "metadata": {
    "pycharm": {
     "name": "#%%\n"
    }
   },
   "outputs": [
    {
     "name": "stderr",
     "output_type": "stream",
     "text": [
      "Failed to load Python extension for LZ4 support. LZ4 compression will not be available.\n"
     ]
    },
    {
     "name": "stdout",
     "output_type": "stream",
     "text": [
      "Time (Method 1): 68.652\n"
     ]
    },
    {
     "data": {
      "application/vnd.jupyter.widget-view+json": {
       "model_id": "ce4d8d29737846aa817bdbab33fa6fa4",
       "version_major": 2,
       "version_minor": 0
      },
      "text/plain": [
       "HBox(children=(FloatProgress(value=1.0, bar_style='info', max=1.0), HTML(value='')))"
      ]
     },
     "metadata": {},
     "output_type": "display_data"
    },
    {
     "name": "stdout",
     "output_type": "stream",
     "text": [
      "\n"
     ]
    }
   ],
   "source": [
    "import time\n",
    "from PIL import Image\n",
    "from tqdm.notebook import tqdm\n",
    "from dwtk.io import BaseFileReader\n",
    "\n",
    "reader = BaseFileReader()\n",
    "\n",
    "t1 = time.time()\n",
    "timestamps, data, columns = reader.read(sample, target_frame_rate=2, resize_rate=0.25)\n",
    "t2 = time.time()\n",
    "print(\"Time (Method 1): {0:.03f}\".format(t2 - t1))\n",
    "\n",
    "for timestamp, frame in tqdm(zip(timestamps, data)):\n",
    "    image_array = frame[:, :, ::-1]     # Convert BGR to RGB\n",
    "    image = Image.fromarray(image_array)\n",
    "    image.save('dump/{0}-{1:.03f}.jpg'.format(sample['record_id'], timestamp))"
   ]
  },
  {
   "cell_type": "markdown",
   "metadata": {
    "pycharm": {
     "name": "#%% md\n"
    }
   },
   "source": [
    "In addition, the process may die due to lack in free space in the memory \n",
    "as all the data loaded from the file will be stored in the memory.\n",
    "\n",
    "The following method avoids the problems above by defining a function that\n",
    "splits the data to load into short sequences and load them one-by-one."
   ]
  },
  {
   "cell_type": "code",
   "execution_count": 4,
   "metadata": {
    "pycharm": {
     "name": "#%%\n"
    }
   },
   "outputs": [
    {
     "data": {
      "application/vnd.jupyter.widget-view+json": {
       "model_id": "e600fd07beee4edc8a9ac21da232df10",
       "version_major": 2,
       "version_minor": 0
      },
      "text/plain": [
       "HBox(children=(FloatProgress(value=0.0, max=7.0), HTML(value='')))"
      ]
     },
     "metadata": {},
     "output_type": "display_data"
    },
    {
     "name": "stdout",
     "output_type": "stream",
     "text": [
      "\n",
      "Time (Method 2): 59.327\n"
     ]
    }
   ],
   "source": [
    "from copy import deepcopy\n",
    "import time\n",
    "\n",
    "from PIL import Image\n",
    "from dwtk.io import BaseFileReader\n",
    "\n",
    "\n",
    "def load_images(metadata, segment_duration, **kwargs):\n",
    "    \"\"\"Load images.\n",
    "\n",
    "    Args:\n",
    "        metadata (dict): metadata\n",
    "        segment_duration (float): duration of each segment\n",
    "\n",
    "    Returns:\n",
    "        pass\n",
    "\n",
    "    \"\"\"\n",
    "    assert 'start_timestamp' in metadata.keys()\n",
    "    assert 'end_timestamp' in metadata.keys()\n",
    "\n",
    "    duration = metadata['end_timestamp'] - metadata['start_timestamp']\n",
    "\n",
    "    for idx in range(int(duration // segment_duration)):\n",
    "        _metadata = deepcopy(metadata)\n",
    "        _metadata.update({\n",
    "            'start_timestamp': metadata['start_timestamp'] + segment_duration * idx,\n",
    "            'end_timestamp': metadata['start_timestamp'] + segment_duration * (idx + 1)\n",
    "        })\n",
    "        reader = BaseFileReader()\n",
    "        yield reader.read(_metadata, **kwargs)\n",
    "        \n",
    "\n",
    "# Load video and save images\n",
    "target_frame_rate = 2\n",
    "seq_duration = 10\n",
    "num_seq = int((sample['end_timestamp'] - sample['start_timestamp']) // seq_duration)\n",
    "t3 = time.time()\n",
    "for timestamps, data, columns in tqdm(\n",
    "        load_images(sample, segment_duration=seq_duration, target_frame_rate=target_frame_rate, resize_rate=0.25), \n",
    "        total=num_seq\n",
    "    ):\n",
    "    for timestamp, frame in zip(timestamps, data):\n",
    "        image_array = frame[:, :, ::-1]     # Convert BGR to RGB\n",
    "        image = Image.fromarray(image_array)\n",
    "        image.save('dump/{0}-{1:.03f}.jpg'.format(sample['record_id'], timestamp))\n",
    "t4 = time.time()\n",
    "print(\"Time (Method 2): {0:.03f}\".format(t4 - t3))"
   ]
  }
 ],
 "metadata": {
  "kernelspec": {
   "display_name": "Python 3",
   "language": "python",
   "name": "python3"
  },
  "language_info": {
   "codemirror_mode": {
    "name": "ipython",
    "version": 3
   },
   "file_extension": ".py",
   "mimetype": "text/x-python",
   "name": "python",
   "nbconvert_exporter": "python",
   "pygments_lexer": "ipython3",
   "version": "3.6.9"
  }
 },
 "nbformat": 4,
 "nbformat_minor": 1
}